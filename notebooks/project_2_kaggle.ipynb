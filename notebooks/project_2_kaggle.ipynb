{
 "cells": [
  {
   "cell_type": "markdown",
   "id": "9460c602",
   "metadata": {},
   "source": [
    "## Kaggle Model\n",
    "\n",
    "For the sake of time, I based my kaggle submission on the work I had completed on my baseline model of lot features only. "
   ]
  },
  {
   "cell_type": "code",
   "execution_count": 1,
   "id": "8fee354f",
   "metadata": {},
   "outputs": [],
   "source": [
    "# imports\n",
    "import pandas as pd\n",
    "import numpy as np\n",
    "import matplotlib.pyplot as plt\n",
    "import seaborn as sns\n",
    "import statsmodels.api as sm\n",
    "from sklearn.model_selection import train_test_split, cross_val_score\n",
    "from sklearn.linear_model import LinearRegression, LassoCV\n",
    "from sklearn import metrics"
   ]
  },
  {
   "cell_type": "code",
   "execution_count": 2,
   "id": "3e239033",
   "metadata": {},
   "outputs": [],
   "source": [
    "# read in the datasets\n",
    "train = pd.read_csv('../datasets/train.csv')\n",
    "test = pd.read_csv('../datasets/test.csv')"
   ]
  },
  {
   "cell_type": "code",
   "execution_count": 7,
   "id": "8a13f9ec",
   "metadata": {},
   "outputs": [],
   "source": [
    "# change this commonly used grading scale from str to int\n",
    "# https://pandas.pydata.org/docs/reference/api/pandas.DataFrame.replace.html\n",
    "num_scale = {\n",
    "        'Ex':int(5),\n",
    "        'Gd':int(4),\n",
    "        'TA':int(3),\n",
    "        'Fa':int(2),\n",
    "        'Po':int(1)\n",
    "}\n",
    "\n",
    "train.replace(to_replace = num_scale, value = None, inplace = True)\n",
    "test.replace(to_replace = num_scale, value = None, inplace = True)"
   ]
  },
  {
   "cell_type": "code",
   "execution_count": 8,
   "id": "12cb8c56",
   "metadata": {},
   "outputs": [],
   "source": [
    "#create a dataframe focused on features of the land itself\n",
    "train_lots = pd.DataFrame(train, columns = ['Id', 'SalePrice', 'MS Zoning', 'Lot Area', 'Lot Shape', 'Land Contour', 'Lot Config', 'Neighborhood'])\n",
    "test_lots = pd.DataFrame(test, columns = ['Id', 'MS Zoning', 'Lot Area', 'Lot Shape', 'Land Contour', 'Lot Config', 'Neighborhood'])"
   ]
  },
  {
   "cell_type": "code",
   "execution_count": 9,
   "id": "45ea0da9",
   "metadata": {},
   "outputs": [],
   "source": [
    "train_lots = pd.get_dummies(data = train_lots, columns = ['MS Zoning', 'Lot Shape', 'Land Contour', 'Lot Config', 'Neighborhood'], drop_first = True)\n",
    "test_lots = pd.get_dummies(data = test_lots, columns = ['MS Zoning', 'Lot Shape', 'Land Contour', 'Lot Config', 'Neighborhood'], drop_first = True)"
   ]
  },
  {
   "cell_type": "code",
   "execution_count": 10,
   "id": "e12a0fe5",
   "metadata": {},
   "outputs": [],
   "source": [
    "missing_cols = set(train_lots.columns) - set(test_lots.columns)\n",
    "for c in missing_cols:\n",
    "    test_lots[c] = 0\n",
    "test_lots = test_lots[train_lots.columns]\n",
    "\n",
    "missing_cols2 = set(test_lots.columns) - set(train_lots.columns)\n",
    "for c in missing_cols2:\n",
    "    train_lots[c] = 0\n",
    "train_lots = train_lots[test_lots.columns]\n",
    "\n",
    "test_lots.drop(columns = 'SalePrice', inplace = True)\n",
    "#https://stackoverflow.com/questions/41335718/keep-same-dummy-variable-in-training-and-testing-data"
   ]
  },
  {
   "cell_type": "code",
   "execution_count": 13,
   "id": "5802fdb4",
   "metadata": {},
   "outputs": [],
   "source": [
    "X_lots = train_lots.drop(columns = ['SalePrice'])\n",
    "y_lots = train_lots['SalePrice']"
   ]
  },
  {
   "cell_type": "code",
   "execution_count": 15,
   "id": "e8d181b1",
   "metadata": {},
   "outputs": [
    {
     "data": {
      "text/plain": [
       "LinearRegression()"
      ]
     },
     "execution_count": 15,
     "metadata": {},
     "output_type": "execute_result"
    }
   ],
   "source": [
    "model_lots = LinearRegression()\n",
    "model_lots.fit(X_lots, y_lots)"
   ]
  },
  {
   "cell_type": "code",
   "execution_count": 19,
   "id": "ec57b3ef",
   "metadata": {},
   "outputs": [],
   "source": [
    "kaggle_preds = model_lots.predict(test_lots)"
   ]
  },
  {
   "cell_type": "code",
   "execution_count": 22,
   "id": "dc648002",
   "metadata": {},
   "outputs": [
    {
     "data": {
      "text/plain": [
       "(878,)"
      ]
     },
     "execution_count": 22,
     "metadata": {},
     "output_type": "execute_result"
    }
   ],
   "source": [
    "kaggle_preds.shape"
   ]
  },
  {
   "cell_type": "code",
   "execution_count": 23,
   "id": "1bce2921",
   "metadata": {},
   "outputs": [
    {
     "data": {
      "text/plain": [
       "(878, 45)"
      ]
     },
     "execution_count": 23,
     "metadata": {},
     "output_type": "execute_result"
    }
   ],
   "source": [
    "test_lots.shape"
   ]
  },
  {
   "cell_type": "code",
   "execution_count": 24,
   "id": "35478a3a",
   "metadata": {},
   "outputs": [],
   "source": [
    "kaggle_output = {'Id':test['Id'], 'SalePrice':kaggle_preds}"
   ]
  },
  {
   "cell_type": "code",
   "execution_count": 25,
   "id": "0d63fe6f",
   "metadata": {},
   "outputs": [],
   "source": [
    "kaggle_output = pd.DataFrame(kaggle_output)"
   ]
  },
  {
   "cell_type": "code",
   "execution_count": 26,
   "id": "1df4fba5",
   "metadata": {},
   "outputs": [],
   "source": [
    "kaggle_output.to_csv('./demo_submission.csv', index = False) # Be sure to set index = False or kaggle will reject"
   ]
  }
 ],
 "metadata": {
  "kernelspec": {
   "display_name": "Python 3",
   "language": "python",
   "name": "python3"
  },
  "language_info": {
   "codemirror_mode": {
    "name": "ipython",
    "version": 3
   },
   "file_extension": ".py",
   "mimetype": "text/x-python",
   "name": "python",
   "nbconvert_exporter": "python",
   "pygments_lexer": "ipython3",
   "version": "3.8.8"
  }
 },
 "nbformat": 4,
 "nbformat_minor": 5
}
