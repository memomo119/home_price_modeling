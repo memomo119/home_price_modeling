{
 "cells": [
  {
   "cell_type": "markdown",
   "id": "bcbcdb3f",
   "metadata": {},
   "source": [
    "# SpecSpex: A Tool for Building Professionals\n",
    "\n",
    "\n",
    "## Background\n",
    "\n",
    "Architects, developers, builders and their clients sometimes undertake \"spec\" projects. These are \"speculative\" houses that aren't customized for any particular occupant. \n",
    "\n",
    "In some cases, the client (or the architect / builder etc) already owns a piece of property that they want to build on. In other cases, they may be looking for promising lots for sale for the purpose of building a spec house. In either case, they want to maximize the sale price of the spec house so that they can turn the most profit. They are flexible on the actual characteristics of the house. \n",
    "\n",
    "## Problem Statement\n",
    "\n",
    "> **This project identifies characteristics of a house or the lot itself that building professionals should emphasize in order to increase the sale price of new homes.**\n",
    "\n",
    "Because some people have plots of land in mind while others don't, I need to build a tool that could be used in either scenario. \n",
    "\n",
    "I created one model that can advise on features of the lot itself, in the case where the builder needs to acquire a piece of land. The idea is that in this scenario, the builder might be able to add value to the project by choosing a lot with certain features. \n",
    "\n",
    "The \"lots only\" model can explain about 63% of sale prices. I ended up using this model as a baseline, similar to how a piece of land is a baseline for a home. \n",
    "\n",
    "I created a second model that can advise on the features of the house, in the case where the land has already been acquired and land features are non-negotiable. This model looks at recently built or remodeled homes only, because spec houses are new construction almost by definition. \n"
   ]
  },
  {
   "cell_type": "code",
   "execution_count": 1,
   "id": "b8738b17",
   "metadata": {},
   "outputs": [],
   "source": [
    "# imports\n",
    "import pandas as pd\n",
    "import numpy as np\n",
    "import matplotlib.pyplot as plt\n",
    "import seaborn as sns\n",
    "import statsmodels.api as sm\n",
    "from sklearn.model_selection import train_test_split, cross_val_score\n",
    "from sklearn.linear_model import LinearRegression, LassoCV, RidgeCV\n",
    "from sklearn import metrics\n",
    "from sklearn.preprocessing import StandardScaler\n",
    "from sklearn.experimental import enable_iterative_imputer\n",
    "from sklearn.impute import IterativeImputer"
   ]
  },
  {
   "cell_type": "code",
   "execution_count": 2,
   "id": "4cdd145f",
   "metadata": {},
   "outputs": [],
   "source": [
    "# read in the datasets\n",
    "train = pd.read_csv('../project_2/datasets/train.csv')\n",
    "test = pd.read_csv('../project_2/datasets/test.csv')"
   ]
  },
  {
   "cell_type": "markdown",
   "id": "ead5747a",
   "metadata": {},
   "source": [
    "## Cleaning and EDA\n",
    "\n",
    "### Summary Statistics\n",
    "\n",
    "There are 2051 homes in the dataset, ranging in price from \\\\$12,789 to \\\\$214,000. The median price is \\\\$162,500 and the mean is \\\\$181,469, suggesting a somewhat skewed distribution of prices, which is borne out in the histogram below. \n",
    "\n",
    "The sales occurred from 2006 - 2010. For a closer look at the age of the homes, see below. \n",
    "\n",
    "The houses range in size from 334 sf of livable area to 5542 sf. The lots range from 1300 sf to 159,000 sf (approx. 3.7 acres). See below for a more detailed account of lot size. \n",
    "\n",
    "The median number of bedrooms is 3. Many people looking at home listings are accustomed to a total count bathrooms as well, but this is not readily apparent from this dataset because bathrooms are counted separately depending whether they are full or half-bath, above or below grade. See below for treatment of this point of potential confusion. "
   ]
  },
  {
   "cell_type": "code",
   "execution_count": 3,
   "id": "8b52b365",
   "metadata": {},
   "outputs": [
    {
     "data": {
      "text/html": [
       "<div>\n",
       "<style scoped>\n",
       "    .dataframe tbody tr th:only-of-type {\n",
       "        vertical-align: middle;\n",
       "    }\n",
       "\n",
       "    .dataframe tbody tr th {\n",
       "        vertical-align: top;\n",
       "    }\n",
       "\n",
       "    .dataframe thead th {\n",
       "        text-align: right;\n",
       "    }\n",
       "</style>\n",
       "<table border=\"1\" class=\"dataframe\">\n",
       "  <thead>\n",
       "    <tr style=\"text-align: right;\">\n",
       "      <th></th>\n",
       "      <th>Id</th>\n",
       "      <th>PID</th>\n",
       "      <th>MS SubClass</th>\n",
       "      <th>Lot Frontage</th>\n",
       "      <th>Lot Area</th>\n",
       "      <th>Overall Qual</th>\n",
       "      <th>Overall Cond</th>\n",
       "      <th>Year Built</th>\n",
       "      <th>Year Remod/Add</th>\n",
       "      <th>Mas Vnr Area</th>\n",
       "      <th>BsmtFin SF 1</th>\n",
       "      <th>BsmtFin SF 2</th>\n",
       "      <th>Bsmt Unf SF</th>\n",
       "      <th>Total Bsmt SF</th>\n",
       "      <th>1st Flr SF</th>\n",
       "      <th>2nd Flr SF</th>\n",
       "      <th>Low Qual Fin SF</th>\n",
       "      <th>Gr Liv Area</th>\n",
       "      <th>Bsmt Full Bath</th>\n",
       "      <th>Bsmt Half Bath</th>\n",
       "      <th>Full Bath</th>\n",
       "      <th>Half Bath</th>\n",
       "      <th>Bedroom AbvGr</th>\n",
       "      <th>Kitchen AbvGr</th>\n",
       "      <th>TotRms AbvGrd</th>\n",
       "      <th>Fireplaces</th>\n",
       "      <th>Garage Yr Blt</th>\n",
       "      <th>Garage Cars</th>\n",
       "      <th>Garage Area</th>\n",
       "      <th>Wood Deck SF</th>\n",
       "      <th>Open Porch SF</th>\n",
       "      <th>Enclosed Porch</th>\n",
       "      <th>3Ssn Porch</th>\n",
       "      <th>Screen Porch</th>\n",
       "      <th>Pool Area</th>\n",
       "      <th>Misc Val</th>\n",
       "      <th>Mo Sold</th>\n",
       "      <th>Yr Sold</th>\n",
       "      <th>SalePrice</th>\n",
       "    </tr>\n",
       "  </thead>\n",
       "  <tbody>\n",
       "    <tr>\n",
       "      <th>count</th>\n",
       "      <td>2051.000000</td>\n",
       "      <td>2.051000e+03</td>\n",
       "      <td>2051.000000</td>\n",
       "      <td>1721.000000</td>\n",
       "      <td>2051.000000</td>\n",
       "      <td>2051.000000</td>\n",
       "      <td>2051.000000</td>\n",
       "      <td>2051.000000</td>\n",
       "      <td>2051.000000</td>\n",
       "      <td>2029.000000</td>\n",
       "      <td>2050.000000</td>\n",
       "      <td>2050.000000</td>\n",
       "      <td>2050.000000</td>\n",
       "      <td>2050.000000</td>\n",
       "      <td>2051.000000</td>\n",
       "      <td>2051.000000</td>\n",
       "      <td>2051.000000</td>\n",
       "      <td>2051.000000</td>\n",
       "      <td>2049.000000</td>\n",
       "      <td>2049.000000</td>\n",
       "      <td>2051.000000</td>\n",
       "      <td>2051.000000</td>\n",
       "      <td>2051.000000</td>\n",
       "      <td>2051.000000</td>\n",
       "      <td>2051.000000</td>\n",
       "      <td>2051.000000</td>\n",
       "      <td>1937.000000</td>\n",
       "      <td>2050.000000</td>\n",
       "      <td>2050.000000</td>\n",
       "      <td>2051.000000</td>\n",
       "      <td>2051.000000</td>\n",
       "      <td>2051.000000</td>\n",
       "      <td>2051.000000</td>\n",
       "      <td>2051.000000</td>\n",
       "      <td>2051.000000</td>\n",
       "      <td>2051.000000</td>\n",
       "      <td>2051.000000</td>\n",
       "      <td>2051.000000</td>\n",
       "      <td>2051.000000</td>\n",
       "    </tr>\n",
       "    <tr>\n",
       "      <th>mean</th>\n",
       "      <td>1474.033642</td>\n",
       "      <td>7.135900e+08</td>\n",
       "      <td>57.008776</td>\n",
       "      <td>69.055200</td>\n",
       "      <td>10065.208191</td>\n",
       "      <td>6.112140</td>\n",
       "      <td>5.562165</td>\n",
       "      <td>1971.708922</td>\n",
       "      <td>1984.190151</td>\n",
       "      <td>99.695909</td>\n",
       "      <td>442.300488</td>\n",
       "      <td>47.959024</td>\n",
       "      <td>567.728293</td>\n",
       "      <td>1057.987805</td>\n",
       "      <td>1164.488055</td>\n",
       "      <td>329.329108</td>\n",
       "      <td>5.512921</td>\n",
       "      <td>1499.330083</td>\n",
       "      <td>0.427526</td>\n",
       "      <td>0.063446</td>\n",
       "      <td>1.577279</td>\n",
       "      <td>0.371039</td>\n",
       "      <td>2.843491</td>\n",
       "      <td>1.042906</td>\n",
       "      <td>6.435885</td>\n",
       "      <td>0.590931</td>\n",
       "      <td>1978.707796</td>\n",
       "      <td>1.776585</td>\n",
       "      <td>473.671707</td>\n",
       "      <td>93.833740</td>\n",
       "      <td>47.556802</td>\n",
       "      <td>22.571916</td>\n",
       "      <td>2.591419</td>\n",
       "      <td>16.511458</td>\n",
       "      <td>2.397855</td>\n",
       "      <td>51.574354</td>\n",
       "      <td>6.219893</td>\n",
       "      <td>2007.775719</td>\n",
       "      <td>181469.701609</td>\n",
       "    </tr>\n",
       "    <tr>\n",
       "      <th>std</th>\n",
       "      <td>843.980841</td>\n",
       "      <td>1.886918e+08</td>\n",
       "      <td>42.824223</td>\n",
       "      <td>23.260653</td>\n",
       "      <td>6742.488909</td>\n",
       "      <td>1.426271</td>\n",
       "      <td>1.104497</td>\n",
       "      <td>30.177889</td>\n",
       "      <td>21.036250</td>\n",
       "      <td>174.963129</td>\n",
       "      <td>461.204124</td>\n",
       "      <td>165.000901</td>\n",
       "      <td>444.954786</td>\n",
       "      <td>449.410704</td>\n",
       "      <td>396.446923</td>\n",
       "      <td>425.671046</td>\n",
       "      <td>51.068870</td>\n",
       "      <td>500.447829</td>\n",
       "      <td>0.522673</td>\n",
       "      <td>0.251705</td>\n",
       "      <td>0.549279</td>\n",
       "      <td>0.501043</td>\n",
       "      <td>0.826618</td>\n",
       "      <td>0.209790</td>\n",
       "      <td>1.560225</td>\n",
       "      <td>0.638516</td>\n",
       "      <td>25.441094</td>\n",
       "      <td>0.764537</td>\n",
       "      <td>215.934561</td>\n",
       "      <td>128.549416</td>\n",
       "      <td>66.747241</td>\n",
       "      <td>59.845110</td>\n",
       "      <td>25.229615</td>\n",
       "      <td>57.374204</td>\n",
       "      <td>37.782570</td>\n",
       "      <td>573.393985</td>\n",
       "      <td>2.744736</td>\n",
       "      <td>1.312014</td>\n",
       "      <td>79258.659352</td>\n",
       "    </tr>\n",
       "    <tr>\n",
       "      <th>min</th>\n",
       "      <td>1.000000</td>\n",
       "      <td>5.263011e+08</td>\n",
       "      <td>20.000000</td>\n",
       "      <td>21.000000</td>\n",
       "      <td>1300.000000</td>\n",
       "      <td>1.000000</td>\n",
       "      <td>1.000000</td>\n",
       "      <td>1872.000000</td>\n",
       "      <td>1950.000000</td>\n",
       "      <td>0.000000</td>\n",
       "      <td>0.000000</td>\n",
       "      <td>0.000000</td>\n",
       "      <td>0.000000</td>\n",
       "      <td>0.000000</td>\n",
       "      <td>334.000000</td>\n",
       "      <td>0.000000</td>\n",
       "      <td>0.000000</td>\n",
       "      <td>334.000000</td>\n",
       "      <td>0.000000</td>\n",
       "      <td>0.000000</td>\n",
       "      <td>0.000000</td>\n",
       "      <td>0.000000</td>\n",
       "      <td>0.000000</td>\n",
       "      <td>0.000000</td>\n",
       "      <td>2.000000</td>\n",
       "      <td>0.000000</td>\n",
       "      <td>1895.000000</td>\n",
       "      <td>0.000000</td>\n",
       "      <td>0.000000</td>\n",
       "      <td>0.000000</td>\n",
       "      <td>0.000000</td>\n",
       "      <td>0.000000</td>\n",
       "      <td>0.000000</td>\n",
       "      <td>0.000000</td>\n",
       "      <td>0.000000</td>\n",
       "      <td>0.000000</td>\n",
       "      <td>1.000000</td>\n",
       "      <td>2006.000000</td>\n",
       "      <td>12789.000000</td>\n",
       "    </tr>\n",
       "    <tr>\n",
       "      <th>25%</th>\n",
       "      <td>753.500000</td>\n",
       "      <td>5.284581e+08</td>\n",
       "      <td>20.000000</td>\n",
       "      <td>58.000000</td>\n",
       "      <td>7500.000000</td>\n",
       "      <td>5.000000</td>\n",
       "      <td>5.000000</td>\n",
       "      <td>1953.500000</td>\n",
       "      <td>1964.500000</td>\n",
       "      <td>0.000000</td>\n",
       "      <td>0.000000</td>\n",
       "      <td>0.000000</td>\n",
       "      <td>220.000000</td>\n",
       "      <td>793.000000</td>\n",
       "      <td>879.500000</td>\n",
       "      <td>0.000000</td>\n",
       "      <td>0.000000</td>\n",
       "      <td>1129.000000</td>\n",
       "      <td>0.000000</td>\n",
       "      <td>0.000000</td>\n",
       "      <td>1.000000</td>\n",
       "      <td>0.000000</td>\n",
       "      <td>2.000000</td>\n",
       "      <td>1.000000</td>\n",
       "      <td>5.000000</td>\n",
       "      <td>0.000000</td>\n",
       "      <td>1961.000000</td>\n",
       "      <td>1.000000</td>\n",
       "      <td>319.000000</td>\n",
       "      <td>0.000000</td>\n",
       "      <td>0.000000</td>\n",
       "      <td>0.000000</td>\n",
       "      <td>0.000000</td>\n",
       "      <td>0.000000</td>\n",
       "      <td>0.000000</td>\n",
       "      <td>0.000000</td>\n",
       "      <td>4.000000</td>\n",
       "      <td>2007.000000</td>\n",
       "      <td>129825.000000</td>\n",
       "    </tr>\n",
       "    <tr>\n",
       "      <th>50%</th>\n",
       "      <td>1486.000000</td>\n",
       "      <td>5.354532e+08</td>\n",
       "      <td>50.000000</td>\n",
       "      <td>68.000000</td>\n",
       "      <td>9430.000000</td>\n",
       "      <td>6.000000</td>\n",
       "      <td>5.000000</td>\n",
       "      <td>1974.000000</td>\n",
       "      <td>1993.000000</td>\n",
       "      <td>0.000000</td>\n",
       "      <td>368.000000</td>\n",
       "      <td>0.000000</td>\n",
       "      <td>474.500000</td>\n",
       "      <td>994.500000</td>\n",
       "      <td>1093.000000</td>\n",
       "      <td>0.000000</td>\n",
       "      <td>0.000000</td>\n",
       "      <td>1444.000000</td>\n",
       "      <td>0.000000</td>\n",
       "      <td>0.000000</td>\n",
       "      <td>2.000000</td>\n",
       "      <td>0.000000</td>\n",
       "      <td>3.000000</td>\n",
       "      <td>1.000000</td>\n",
       "      <td>6.000000</td>\n",
       "      <td>1.000000</td>\n",
       "      <td>1980.000000</td>\n",
       "      <td>2.000000</td>\n",
       "      <td>480.000000</td>\n",
       "      <td>0.000000</td>\n",
       "      <td>27.000000</td>\n",
       "      <td>0.000000</td>\n",
       "      <td>0.000000</td>\n",
       "      <td>0.000000</td>\n",
       "      <td>0.000000</td>\n",
       "      <td>0.000000</td>\n",
       "      <td>6.000000</td>\n",
       "      <td>2008.000000</td>\n",
       "      <td>162500.000000</td>\n",
       "    </tr>\n",
       "    <tr>\n",
       "      <th>75%</th>\n",
       "      <td>2198.000000</td>\n",
       "      <td>9.071801e+08</td>\n",
       "      <td>70.000000</td>\n",
       "      <td>80.000000</td>\n",
       "      <td>11513.500000</td>\n",
       "      <td>7.000000</td>\n",
       "      <td>6.000000</td>\n",
       "      <td>2001.000000</td>\n",
       "      <td>2004.000000</td>\n",
       "      <td>161.000000</td>\n",
       "      <td>733.750000</td>\n",
       "      <td>0.000000</td>\n",
       "      <td>811.000000</td>\n",
       "      <td>1318.750000</td>\n",
       "      <td>1405.000000</td>\n",
       "      <td>692.500000</td>\n",
       "      <td>0.000000</td>\n",
       "      <td>1728.500000</td>\n",
       "      <td>1.000000</td>\n",
       "      <td>0.000000</td>\n",
       "      <td>2.000000</td>\n",
       "      <td>1.000000</td>\n",
       "      <td>3.000000</td>\n",
       "      <td>1.000000</td>\n",
       "      <td>7.000000</td>\n",
       "      <td>1.000000</td>\n",
       "      <td>2002.000000</td>\n",
       "      <td>2.000000</td>\n",
       "      <td>576.000000</td>\n",
       "      <td>168.000000</td>\n",
       "      <td>70.000000</td>\n",
       "      <td>0.000000</td>\n",
       "      <td>0.000000</td>\n",
       "      <td>0.000000</td>\n",
       "      <td>0.000000</td>\n",
       "      <td>0.000000</td>\n",
       "      <td>8.000000</td>\n",
       "      <td>2009.000000</td>\n",
       "      <td>214000.000000</td>\n",
       "    </tr>\n",
       "    <tr>\n",
       "      <th>max</th>\n",
       "      <td>2930.000000</td>\n",
       "      <td>9.241520e+08</td>\n",
       "      <td>190.000000</td>\n",
       "      <td>313.000000</td>\n",
       "      <td>159000.000000</td>\n",
       "      <td>10.000000</td>\n",
       "      <td>9.000000</td>\n",
       "      <td>2010.000000</td>\n",
       "      <td>2010.000000</td>\n",
       "      <td>1600.000000</td>\n",
       "      <td>5644.000000</td>\n",
       "      <td>1474.000000</td>\n",
       "      <td>2336.000000</td>\n",
       "      <td>6110.000000</td>\n",
       "      <td>5095.000000</td>\n",
       "      <td>1862.000000</td>\n",
       "      <td>1064.000000</td>\n",
       "      <td>5642.000000</td>\n",
       "      <td>3.000000</td>\n",
       "      <td>2.000000</td>\n",
       "      <td>4.000000</td>\n",
       "      <td>2.000000</td>\n",
       "      <td>8.000000</td>\n",
       "      <td>3.000000</td>\n",
       "      <td>15.000000</td>\n",
       "      <td>4.000000</td>\n",
       "      <td>2207.000000</td>\n",
       "      <td>5.000000</td>\n",
       "      <td>1418.000000</td>\n",
       "      <td>1424.000000</td>\n",
       "      <td>547.000000</td>\n",
       "      <td>432.000000</td>\n",
       "      <td>508.000000</td>\n",
       "      <td>490.000000</td>\n",
       "      <td>800.000000</td>\n",
       "      <td>17000.000000</td>\n",
       "      <td>12.000000</td>\n",
       "      <td>2010.000000</td>\n",
       "      <td>611657.000000</td>\n",
       "    </tr>\n",
       "  </tbody>\n",
       "</table>\n",
       "</div>"
      ],
      "text/plain": [
       "                Id           PID  MS SubClass  Lot Frontage       Lot Area  \\\n",
       "count  2051.000000  2.051000e+03  2051.000000   1721.000000    2051.000000   \n",
       "mean   1474.033642  7.135900e+08    57.008776     69.055200   10065.208191   \n",
       "std     843.980841  1.886918e+08    42.824223     23.260653    6742.488909   \n",
       "min       1.000000  5.263011e+08    20.000000     21.000000    1300.000000   \n",
       "25%     753.500000  5.284581e+08    20.000000     58.000000    7500.000000   \n",
       "50%    1486.000000  5.354532e+08    50.000000     68.000000    9430.000000   \n",
       "75%    2198.000000  9.071801e+08    70.000000     80.000000   11513.500000   \n",
       "max    2930.000000  9.241520e+08   190.000000    313.000000  159000.000000   \n",
       "\n",
       "       Overall Qual  Overall Cond   Year Built  Year Remod/Add  Mas Vnr Area  \\\n",
       "count   2051.000000   2051.000000  2051.000000     2051.000000   2029.000000   \n",
       "mean       6.112140      5.562165  1971.708922     1984.190151     99.695909   \n",
       "std        1.426271      1.104497    30.177889       21.036250    174.963129   \n",
       "min        1.000000      1.000000  1872.000000     1950.000000      0.000000   \n",
       "25%        5.000000      5.000000  1953.500000     1964.500000      0.000000   \n",
       "50%        6.000000      5.000000  1974.000000     1993.000000      0.000000   \n",
       "75%        7.000000      6.000000  2001.000000     2004.000000    161.000000   \n",
       "max       10.000000      9.000000  2010.000000     2010.000000   1600.000000   \n",
       "\n",
       "       BsmtFin SF 1  BsmtFin SF 2  Bsmt Unf SF  Total Bsmt SF   1st Flr SF  \\\n",
       "count   2050.000000   2050.000000  2050.000000    2050.000000  2051.000000   \n",
       "mean     442.300488     47.959024   567.728293    1057.987805  1164.488055   \n",
       "std      461.204124    165.000901   444.954786     449.410704   396.446923   \n",
       "min        0.000000      0.000000     0.000000       0.000000   334.000000   \n",
       "25%        0.000000      0.000000   220.000000     793.000000   879.500000   \n",
       "50%      368.000000      0.000000   474.500000     994.500000  1093.000000   \n",
       "75%      733.750000      0.000000   811.000000    1318.750000  1405.000000   \n",
       "max     5644.000000   1474.000000  2336.000000    6110.000000  5095.000000   \n",
       "\n",
       "        2nd Flr SF  Low Qual Fin SF  Gr Liv Area  Bsmt Full Bath  \\\n",
       "count  2051.000000      2051.000000  2051.000000     2049.000000   \n",
       "mean    329.329108         5.512921  1499.330083        0.427526   \n",
       "std     425.671046        51.068870   500.447829        0.522673   \n",
       "min       0.000000         0.000000   334.000000        0.000000   \n",
       "25%       0.000000         0.000000  1129.000000        0.000000   \n",
       "50%       0.000000         0.000000  1444.000000        0.000000   \n",
       "75%     692.500000         0.000000  1728.500000        1.000000   \n",
       "max    1862.000000      1064.000000  5642.000000        3.000000   \n",
       "\n",
       "       Bsmt Half Bath    Full Bath    Half Bath  Bedroom AbvGr  Kitchen AbvGr  \\\n",
       "count     2049.000000  2051.000000  2051.000000    2051.000000    2051.000000   \n",
       "mean         0.063446     1.577279     0.371039       2.843491       1.042906   \n",
       "std          0.251705     0.549279     0.501043       0.826618       0.209790   \n",
       "min          0.000000     0.000000     0.000000       0.000000       0.000000   \n",
       "25%          0.000000     1.000000     0.000000       2.000000       1.000000   \n",
       "50%          0.000000     2.000000     0.000000       3.000000       1.000000   \n",
       "75%          0.000000     2.000000     1.000000       3.000000       1.000000   \n",
       "max          2.000000     4.000000     2.000000       8.000000       3.000000   \n",
       "\n",
       "       TotRms AbvGrd   Fireplaces  Garage Yr Blt  Garage Cars  Garage Area  \\\n",
       "count    2051.000000  2051.000000    1937.000000  2050.000000  2050.000000   \n",
       "mean        6.435885     0.590931    1978.707796     1.776585   473.671707   \n",
       "std         1.560225     0.638516      25.441094     0.764537   215.934561   \n",
       "min         2.000000     0.000000    1895.000000     0.000000     0.000000   \n",
       "25%         5.000000     0.000000    1961.000000     1.000000   319.000000   \n",
       "50%         6.000000     1.000000    1980.000000     2.000000   480.000000   \n",
       "75%         7.000000     1.000000    2002.000000     2.000000   576.000000   \n",
       "max        15.000000     4.000000    2207.000000     5.000000  1418.000000   \n",
       "\n",
       "       Wood Deck SF  Open Porch SF  Enclosed Porch   3Ssn Porch  Screen Porch  \\\n",
       "count   2051.000000    2051.000000     2051.000000  2051.000000   2051.000000   \n",
       "mean      93.833740      47.556802       22.571916     2.591419     16.511458   \n",
       "std      128.549416      66.747241       59.845110    25.229615     57.374204   \n",
       "min        0.000000       0.000000        0.000000     0.000000      0.000000   \n",
       "25%        0.000000       0.000000        0.000000     0.000000      0.000000   \n",
       "50%        0.000000      27.000000        0.000000     0.000000      0.000000   \n",
       "75%      168.000000      70.000000        0.000000     0.000000      0.000000   \n",
       "max     1424.000000     547.000000      432.000000   508.000000    490.000000   \n",
       "\n",
       "         Pool Area      Misc Val      Mo Sold      Yr Sold      SalePrice  \n",
       "count  2051.000000   2051.000000  2051.000000  2051.000000    2051.000000  \n",
       "mean      2.397855     51.574354     6.219893  2007.775719  181469.701609  \n",
       "std      37.782570    573.393985     2.744736     1.312014   79258.659352  \n",
       "min       0.000000      0.000000     1.000000  2006.000000   12789.000000  \n",
       "25%       0.000000      0.000000     4.000000  2007.000000  129825.000000  \n",
       "50%       0.000000      0.000000     6.000000  2008.000000  162500.000000  \n",
       "75%       0.000000      0.000000     8.000000  2009.000000  214000.000000  \n",
       "max     800.000000  17000.000000    12.000000  2010.000000  611657.000000  "
      ]
     },
     "execution_count": 3,
     "metadata": {},
     "output_type": "execute_result"
    }
   ],
   "source": [
    "pd.set_option('display.max_columns', None)\n",
    "#https://towardsdatascience.com/how-to-show-all-columns-rows-of-a-pandas-dataframe-c49d4507fcf\n",
    "train.describe()"
   ]
  },
  {
   "cell_type": "markdown",
   "id": "fb6a1586",
   "metadata": {},
   "source": [
    "### Dropping columns\n",
    "A few categorical columns have almost no variation within the dataset. These include:\n",
    "- `Utilities`\n",
    "- `Street`\n",
    "- `Heating` (especially considering that there are two categories for natural gas heat!)\n",
    "- `Pool Area` and `Pool QC`\n",
    "\n",
    "While a few other columns have so much variation that no conclusions can be drawn:\n",
    "- `Misc Feature` and `Misc Val` (most houses don't have anything, but those that do tend to have all sorts of things that are likely to be very custom to the house occupant and therefore irrelevant to this problem)\n",
    "- `PID` is secondary ID number, but we already have an `Id` column that we can use \n",
    "\n",
    "I created a separate column, `has_pool`, which is just a binary indicator whether the house has a swimming pool or not. Since there are so few houses in the sample with pools, it's unlikely that we can learn much from the size or condition of the pool. But since it's commonly assumed that there is a relationship between having a swimming pool and a high home value, it seems worth preserving enough information about the presence or absence of a pool to investigate further. \n",
    "\n",
    "All the other columns were dropped. "
   ]
  },
  {
   "cell_type": "code",
   "execution_count": 4,
   "id": "139454a3",
   "metadata": {},
   "outputs": [
    {
     "data": {
      "text/plain": [
       "AllPub    2049\n",
       "NoSewr       1\n",
       "NoSeWa       1\n",
       "Name: Utilities, dtype: int64"
      ]
     },
     "execution_count": 4,
     "metadata": {},
     "output_type": "execute_result"
    }
   ],
   "source": [
    "train['Utilities'].value_counts()"
   ]
  },
  {
   "cell_type": "code",
   "execution_count": 5,
   "id": "51ae668a",
   "metadata": {},
   "outputs": [
    {
     "data": {
      "text/plain": [
       "Pave    2044\n",
       "Grvl       7\n",
       "Name: Street, dtype: int64"
      ]
     },
     "execution_count": 5,
     "metadata": {},
     "output_type": "execute_result"
    }
   ],
   "source": [
    "train['Street'].value_counts()"
   ]
  },
  {
   "cell_type": "code",
   "execution_count": 6,
   "id": "693e8efe",
   "metadata": {},
   "outputs": [
    {
     "data": {
      "text/plain": [
       "GasA    2018\n",
       "GasW      20\n",
       "Wall       6\n",
       "Grav       5\n",
       "OthW       2\n",
       "Name: Heating, dtype: int64"
      ]
     },
     "execution_count": 6,
     "metadata": {},
     "output_type": "execute_result"
    }
   ],
   "source": [
    "train['Heating'].value_counts()"
   ]
  },
  {
   "cell_type": "code",
   "execution_count": 7,
   "id": "171ce57d",
   "metadata": {},
   "outputs": [
    {
     "data": {
      "text/plain": [
       "Gd    4\n",
       "TA    2\n",
       "Fa    2\n",
       "Ex    1\n",
       "Name: Pool QC, dtype: int64"
      ]
     },
     "execution_count": 7,
     "metadata": {},
     "output_type": "execute_result"
    }
   ],
   "source": [
    "train['Pool QC'].value_counts()"
   ]
  },
  {
   "cell_type": "code",
   "execution_count": 8,
   "id": "174e8466",
   "metadata": {},
   "outputs": [],
   "source": [
    "train['has_pool'] = [1 if type(x) == float else 0 for x in train['Pool QC']]\n",
    "test['has_pool'] = [1 if type(x) == float else 0 for x in test['Pool QC']]"
   ]
  },
  {
   "cell_type": "code",
   "execution_count": 9,
   "id": "a7ffd76c",
   "metadata": {},
   "outputs": [],
   "source": [
    "train.drop(columns = ['Pool Area', 'Pool QC', 'Utilities', 'Street', 'Heating', \n",
    "                      'Misc Val', 'Misc Feature', 'PID'], inplace = True)\n",
    "test.drop(columns = ['Pool Area', 'Pool QC', 'Utilities', 'Street', 'Heating', \n",
    "                      'Misc Val', 'Misc Feature', 'PID'], inplace = True)"
   ]
  },
  {
   "cell_type": "markdown",
   "id": "2861e8d6",
   "metadata": {},
   "source": [
    "### Nulls and Datatypes\n",
    "\n",
    "I identified a few columns to change the data type:\n",
    "- `Id` should probably be a `str`\n",
    "- `Alley` and `Central Air` could both become binary `int` columns\n",
    "\n",
    "In addition, many home characteristics in this dataset are described on a 5-point rating scale from \"Poor\" to \"Excellent,\" which I decided to convert to a numeric scale. \n",
    "\n",
    "When a column in this dataset refers to the quality or characteristics of a particular home feature not present in a given home, that home has a null value there. For example, the `Fence` column describes the type of fence, and if a home does not have a fence at all, it is null there. For this reason, I zero-filled all nulls in the dataset.\n",
    "\n",
    "One exception to the zero-filling technique was `Lot Frontage`, which is a property of the lot that all houses should have. Because there were a large number of good data points present on this feature, I originally imputed values for the missing ones after dummification of categorical variables. But even with imputed values in place, this feature had low impact on my model, so I eventually dropped it. "
   ]
  },
  {
   "cell_type": "code",
   "execution_count": 10,
   "id": "cbdfb0d1",
   "metadata": {},
   "outputs": [
    {
     "name": "stdout",
     "output_type": "stream",
     "text": [
      "<class 'pandas.core.frame.DataFrame'>\n",
      "RangeIndex: 2051 entries, 0 to 2050\n",
      "Data columns (total 74 columns):\n",
      " #   Column           Non-Null Count  Dtype  \n",
      "---  ------           --------------  -----  \n",
      " 0   Id               2051 non-null   int64  \n",
      " 1   MS SubClass      2051 non-null   int64  \n",
      " 2   MS Zoning        2051 non-null   object \n",
      " 3   Lot Frontage     1721 non-null   float64\n",
      " 4   Lot Area         2051 non-null   int64  \n",
      " 5   Alley            140 non-null    object \n",
      " 6   Lot Shape        2051 non-null   object \n",
      " 7   Land Contour     2051 non-null   object \n",
      " 8   Lot Config       2051 non-null   object \n",
      " 9   Land Slope       2051 non-null   object \n",
      " 10  Neighborhood     2051 non-null   object \n",
      " 11  Condition 1      2051 non-null   object \n",
      " 12  Condition 2      2051 non-null   object \n",
      " 13  Bldg Type        2051 non-null   object \n",
      " 14  House Style      2051 non-null   object \n",
      " 15  Overall Qual     2051 non-null   int64  \n",
      " 16  Overall Cond     2051 non-null   int64  \n",
      " 17  Year Built       2051 non-null   int64  \n",
      " 18  Year Remod/Add   2051 non-null   int64  \n",
      " 19  Roof Style       2051 non-null   object \n",
      " 20  Roof Matl        2051 non-null   object \n",
      " 21  Exterior 1st     2051 non-null   object \n",
      " 22  Exterior 2nd     2051 non-null   object \n",
      " 23  Mas Vnr Type     2029 non-null   object \n",
      " 24  Mas Vnr Area     2029 non-null   float64\n",
      " 25  Exter Qual       2051 non-null   object \n",
      " 26  Exter Cond       2051 non-null   object \n",
      " 27  Foundation       2051 non-null   object \n",
      " 28  Bsmt Qual        1996 non-null   object \n",
      " 29  Bsmt Cond        1996 non-null   object \n",
      " 30  Bsmt Exposure    1993 non-null   object \n",
      " 31  BsmtFin Type 1   1996 non-null   object \n",
      " 32  BsmtFin SF 1     2050 non-null   float64\n",
      " 33  BsmtFin Type 2   1995 non-null   object \n",
      " 34  BsmtFin SF 2     2050 non-null   float64\n",
      " 35  Bsmt Unf SF      2050 non-null   float64\n",
      " 36  Total Bsmt SF    2050 non-null   float64\n",
      " 37  Heating QC       2051 non-null   object \n",
      " 38  Central Air      2051 non-null   object \n",
      " 39  Electrical       2051 non-null   object \n",
      " 40  1st Flr SF       2051 non-null   int64  \n",
      " 41  2nd Flr SF       2051 non-null   int64  \n",
      " 42  Low Qual Fin SF  2051 non-null   int64  \n",
      " 43  Gr Liv Area      2051 non-null   int64  \n",
      " 44  Bsmt Full Bath   2049 non-null   float64\n",
      " 45  Bsmt Half Bath   2049 non-null   float64\n",
      " 46  Full Bath        2051 non-null   int64  \n",
      " 47  Half Bath        2051 non-null   int64  \n",
      " 48  Bedroom AbvGr    2051 non-null   int64  \n",
      " 49  Kitchen AbvGr    2051 non-null   int64  \n",
      " 50  Kitchen Qual     2051 non-null   object \n",
      " 51  TotRms AbvGrd    2051 non-null   int64  \n",
      " 52  Functional       2051 non-null   object \n",
      " 53  Fireplaces       2051 non-null   int64  \n",
      " 54  Fireplace Qu     1051 non-null   object \n",
      " 55  Garage Type      1938 non-null   object \n",
      " 56  Garage Yr Blt    1937 non-null   float64\n",
      " 57  Garage Finish    1937 non-null   object \n",
      " 58  Garage Cars      2050 non-null   float64\n",
      " 59  Garage Area      2050 non-null   float64\n",
      " 60  Garage Qual      1937 non-null   object \n",
      " 61  Garage Cond      1937 non-null   object \n",
      " 62  Paved Drive      2051 non-null   object \n",
      " 63  Wood Deck SF     2051 non-null   int64  \n",
      " 64  Open Porch SF    2051 non-null   int64  \n",
      " 65  Enclosed Porch   2051 non-null   int64  \n",
      " 66  3Ssn Porch       2051 non-null   int64  \n",
      " 67  Screen Porch     2051 non-null   int64  \n",
      " 68  Fence            400 non-null    object \n",
      " 69  Mo Sold          2051 non-null   int64  \n",
      " 70  Yr Sold          2051 non-null   int64  \n",
      " 71  Sale Type        2051 non-null   object \n",
      " 72  SalePrice        2051 non-null   int64  \n",
      " 73  has_pool         2051 non-null   int64  \n",
      "dtypes: float64(11), int64(26), object(37)\n",
      "memory usage: 1.2+ MB\n"
     ]
    }
   ],
   "source": [
    "train.info()"
   ]
  },
  {
   "cell_type": "code",
   "execution_count": 11,
   "id": "1086cd37",
   "metadata": {},
   "outputs": [],
   "source": [
    "# change this commonly used grading scale from str to int\n",
    "# https://pandas.pydata.org/docs/reference/api/pandas.DataFrame.replace.html\n",
    "num_scale = {\n",
    "        'Ex':int(5),\n",
    "        'Gd':int(4),\n",
    "        'TA':int(3),\n",
    "        'Fa':int(2),\n",
    "        'Po':int(1),\n",
    "        'NA':int(0)\n",
    "}\n",
    "\n",
    "train.replace(to_replace = num_scale, value = None, inplace = True)\n",
    "test.replace(to_replace = num_scale, value = None, inplace = True)"
   ]
  },
  {
   "cell_type": "code",
   "execution_count": 12,
   "id": "2c22ba10",
   "metadata": {},
   "outputs": [],
   "source": [
    "train = train.fillna(0)"
   ]
  },
  {
   "cell_type": "code",
   "execution_count": 13,
   "id": "20bac0be",
   "metadata": {},
   "outputs": [],
   "source": [
    "train['Id'] = train['Id'].astype(str)\n",
    "train['Alley'] = train['Alley'].map(lambda x: 1 if x != 0 else x)\n",
    "train['Central Air'] = (train['Central Air'] == 'Y').astype(int)\n",
    "train['Lot Frontage'] = train['Lot Frontage'].map(lambda x: np.nan if x == 0 else x)\n",
    "# easier to change Lot Frontage back to null than to pull it out of the fillna above\n",
    "# I intended to impute values for Lot Frontage but ended up dropping the column\n",
    "test['Id'] = test['Id'].map(lambda x: str(x))\n",
    "test['Alley'] = test['Alley'].map(lambda x: 1 if x != 0 else x)\n",
    "test['Central Air'] = (test['Central Air'] == 'Y').astype(int)\n",
    "test['Lot Frontage'] = test['Lot Frontage'].map(lambda x: np.nan if x == 0 else x)"
   ]
  },
  {
   "cell_type": "code",
   "execution_count": 14,
   "id": "9a3b1821",
   "metadata": {},
   "outputs": [
    {
     "data": {
      "image/png": "[encoded data removed]",
      "text/plain": [
       "<Figure size 432x288 with 1 Axes>"
      ]
     },
     "metadata": {
      "needs_background": "light"
     },
     "output_type": "display_data"
    }
   ],
   "source": [
    "plt.hist(train['Lot Frontage'], bins = 22);\n",
    "#distribution looks kinda normal"
   ]
  },
  {
   "cell_type": "markdown",
   "id": "af7bb735",
   "metadata": {},
   "source": [
    "### Bathroom and Deck/Porch Count\n",
    "For an architect or other building professional, it is standard practice to put at least one bathroom on each floor of the house. Whether a house has living space below grade may depend more on site considerations or city codes than the requirements of the occupant. For example, some soils are inappropriate for basements, or there may be a municipal code restricting building height. These are non-negotiable so they're not useful for the architect to consider. \n",
    "\n",
    "Moreover, most people are accustomed to counting bathrooms differently than they are counted in this dataset. I decided to combine all the bathroom counts into a single column. After some inspection of the columns, I also combined all the deck and porch area into another column. Then I dropped the individual columns."
   ]
  },
  {
   "cell_type": "code",
   "execution_count": 15,
   "id": "a09362ba",
   "metadata": {},
   "outputs": [],
   "source": [
    "train['bath_count'] = train['Bsmt Full Bath'] + train['Bsmt Half Bath'] + train['Full Bath'] + train['Half Bath']\n",
    "test['bath_count'] = test['Bsmt Full Bath'] + test['Bsmt Half Bath'] + test['Full Bath'] + test['Half Bath']\n",
    "train['deck_porch_sf'] = train['Wood Deck SF'] + train['Open Porch SF'] + train['Enclosed Porch'] + train['Screen Porch']\n",
    "test['deck_porch_sf'] = test['Wood Deck SF'] + test['Open Porch SF'] + test['Enclosed Porch'] + test['Screen Porch']"
   ]
  },
  {
   "cell_type": "code",
   "execution_count": 16,
   "id": "10fe0ff0",
   "metadata": {},
   "outputs": [],
   "source": [
    "train.drop(columns = ['Bsmt Full Bath', 'Bsmt Half Bath', 'Full Bath', 'Half Bath',\n",
    "                     'Wood Deck SF', 'Open Porch SF', 'Enclosed Porch', 'Screen Porch'], inplace = True)\n",
    "test.drop(columns = ['Bsmt Full Bath', 'Bsmt Half Bath', 'Full Bath', 'Half Bath',\n",
    "                     'Wood Deck SF', 'Open Porch SF', 'Enclosed Porch', 'Screen Porch'], inplace = True)"
   ]
  },
  {
   "cell_type": "markdown",
   "id": "973a95d0",
   "metadata": {},
   "source": [
    "### Low Sale Prices\n",
    "\n",
    "There are some houses in this dataset with suspiciously low sale prices. Most of the low-priced homes are older, of poor quality, small, and/or in undesirable neighborhoods. My model was intended to focus on newer houses but that was not feasible, so some of these low sale prices ended up in my final model after all.\n",
    "\n",
    "Because the standard deviation of sale price is so high (\\\\$79,258), *all* houses in the dataset fall within two standard deviations of the median, making a lower cut-off point somewhat arbitrary. I ended up leaving all the inexpensive houses in the data. \n",
    "\n",
    "As far as the most expensive homes go, those prices seemed much less suspicious. Given the data distribution, it would easier to set a justifiable upper limit. On the other hand, there are not any extreme outliers. Moreover, architect-built homes tend to be on the expensive side anyway, so for this model, I left the highest priced homes in the dataset. \n",
    "\n",
    "However, I do think it would be worth investigating whether there are any particular house characteristics that result in a very low home price. \"Flipping\" houses continues in many parts of the US so I could see an application for a model that identifies houses that sell for a low price initially but are ripe for renovations that could drastically increase their price after flipping. "
   ]
  },
  {
   "cell_type": "code",
   "execution_count": 17,
   "id": "20d474f9",
   "metadata": {},
   "outputs": [
    {
     "data": {
      "text/plain": [
       "count      2051.000000\n",
       "mean     181469.701609\n",
       "std       79258.659352\n",
       "min       12789.000000\n",
       "25%      129825.000000\n",
       "50%      162500.000000\n",
       "75%      214000.000000\n",
       "max      611657.000000\n",
       "Name: SalePrice, dtype: float64"
      ]
     },
     "execution_count": 17,
     "metadata": {},
     "output_type": "execute_result"
    }
   ],
   "source": [
    "train['SalePrice'].describe()"
   ]
  },
  {
   "cell_type": "code",
   "execution_count": 18,
   "id": "97660819",
   "metadata": {
    "scrolled": true
   },
   "outputs": [
    {
     "data": {
      "image/png": "[encoded data removed]",
      "text/plain": [
       "<Figure size 720x432 with 1 Axes>"
      ]
     },
     "metadata": {
      "needs_background": "light"
     },
     "output_type": "display_data"
    }
   ],
   "source": [
    "plt.figure(figsize = (10,6))\n",
    "plt.hist(train['SalePrice'], bins = 40);"
   ]
  },
  {
   "cell_type": "code",
   "execution_count": 19,
   "id": "aa1ed836",
   "metadata": {},
   "outputs": [
    {
     "name": "stderr",
     "output_type": "stream",
     "text": [
      "/Users/annelise/opt/anaconda3/lib/python3.8/site-packages/seaborn/_decorators.py:36: FutureWarning: Pass the following variable as a keyword arg: x. From version 0.12, the only valid positional argument will be `data`, and passing other arguments without an explicit keyword will result in an error or misinterpretation.\n",
      "  warnings.warn(\n"
     ]
    },
    {
     "data": {
      "text/plain": [
       "<AxesSubplot:xlabel='SalePrice'>"
      ]
     },
     "execution_count": 19,
     "metadata": {},
     "output_type": "execute_result"
    },
    {
     "data": {
      "image/png": "[encoded data removed]",
      "text/plain": [
       "<Figure size 720x432 with 1 Axes>"
      ]
     },
     "metadata": {
      "needs_background": "light"
     },
     "output_type": "display_data"
    }
   ],
   "source": [
    "plt.figure(figsize = (10,6))\n",
    "sns.boxplot(train['SalePrice'])"
   ]
  },
  {
   "cell_type": "markdown",
   "id": "f72cc3f7",
   "metadata": {},
   "source": [
    "### Year Built and Remodeled\n",
    "For this project, I am most interested in new homes. Comparisons to older homes are less relevant when considering new construction. \n",
    "\n",
    "Remodels and additions can vary widely in scope, but sometimes they are so extensive that the home ends up largely re-built from the foundation up, so it makes sense to also include newly renovated homes with new homes. \n",
    "\n",
    "Looking at the years for these two features, `Year Built` has a multi-modal distribution with the largest spike around 2000 and smaller spikes around 1960 and 1920. \n",
    "\n",
    "The multimodal peaks observed in the `Year Built` distribution are faintly echoed in the `Year Remodel/Add` distribution. Unexpectedly however, there are over 250 houses marked as remodeled in 1950 in this column, and no houses with an earlier year. Looking closely into the data reveals that houses built in 1950 and later all have either (a) their original year built or (b) a later year, as their remodel/addition year. This suggests that houses remodeled in 1949 or before are probably grouped in with the 1950 remodels. \n",
    "\n",
    "For all houses marked as remodeled in 1950 but built earlier, I replaced the value in the `Year Remod/Add` to match the house's `Year Built` column value. "
   ]
  },
  {
   "cell_type": "code",
   "execution_count": 20,
   "id": "7168c23a",
   "metadata": {},
   "outputs": [
    {
     "data": {
      "text/plain": [
       "count    2051.000000\n",
       "mean     1971.708922\n",
       "std        30.177889\n",
       "min      1872.000000\n",
       "25%      1953.500000\n",
       "50%      1974.000000\n",
       "75%      2001.000000\n",
       "max      2010.000000\n",
       "Name: Year Built, dtype: float64"
      ]
     },
     "execution_count": 20,
     "metadata": {},
     "output_type": "execute_result"
    }
   ],
   "source": [
    "train['Year Built'].describe()"
   ]
  },
  {
   "cell_type": "code",
   "execution_count": 21,
   "id": "1bf225dd",
   "metadata": {},
   "outputs": [
    {
     "data": {
      "image/png": "[encoded data removed]",
      "text/plain": [
       "<Figure size 432x288 with 1 Axes>"
      ]
     },
     "metadata": {
      "needs_background": "light"
     },
     "output_type": "display_data"
    }
   ],
   "source": [
    "plt.hist(train['Year Built'], bins = 28);"
   ]
  },
  {
   "cell_type": "code",
   "execution_count": 22,
   "id": "a9445a37",
   "metadata": {
    "scrolled": true
   },
   "outputs": [
    {
     "data": {
      "text/plain": [
       "count    2051.000000\n",
       "mean     1984.190151\n",
       "std        21.036250\n",
       "min      1950.000000\n",
       "25%      1964.500000\n",
       "50%      1993.000000\n",
       "75%      2004.000000\n",
       "max      2010.000000\n",
       "Name: Year Remod/Add, dtype: float64"
      ]
     },
     "execution_count": 22,
     "metadata": {},
     "output_type": "execute_result"
    }
   ],
   "source": [
    "train['Year Remod/Add'].describe()"
   ]
  },
  {
   "cell_type": "code",
   "execution_count": 23,
   "id": "cfa9949f",
   "metadata": {},
   "outputs": [
    {
     "data": {
      "image/png": "[encoded data removed]",
      "text/plain": [
       "<Figure size 432x288 with 1 Axes>"
      ]
     },
     "metadata": {
      "needs_background": "light"
     },
     "output_type": "display_data"
    }
   ],
   "source": [
    "plt.hist(train['Year Remod/Add'], bins = 28);"
   ]
  },
  {
   "cell_type": "code",
   "execution_count": 24,
   "id": "83c642a0",
   "metadata": {},
   "outputs": [],
   "source": [
    "train['Year Remod/Add'] = np.where(train['Year Remod/Add'] == 1950, train['Year Built'], train['Year Remod/Add'])\n",
    "#https://stackoverflow.com/questions/39903090/efficiently-replace-values-from-a-column-to-another-column-pandas-dataframe"
   ]
  },
  {
   "cell_type": "code",
   "execution_count": 25,
   "id": "ac372e5c",
   "metadata": {},
   "outputs": [
    {
     "data": {
      "image/png": "[encoded data removed]",
      "text/plain": [
       "<Figure size 432x288 with 1 Axes>"
      ]
     },
     "metadata": {
      "needs_background": "light"
     },
     "output_type": "display_data"
    }
   ],
   "source": [
    "plt.hist(train['Year Remod/Add'], bins = 28);"
   ]
  },
  {
   "cell_type": "markdown",
   "id": "a5dea14e",
   "metadata": {},
   "source": [
    "### Lot Size\n",
    "Lot area is quite relevant to the development of my baseline model, and I began by looking at box and whisker plots. Because land parcels vary much more widely in size than home sizes, I suspected there could be some extreme outliers, which there were. These outliers obscured the relationship between lot area and sale price. \n",
    "\n",
    "After looking at the two extreme outliers on the high-end of the lot area, I decided to drop houses 10 or more standard deviations away from the median. This resulted in dropping two houses, on lots of 115,149 sf (2.6 acres) and 159,000 sf (3.7 acres). \n",
    "\n",
    "Multi-acre lots are somewhat less likely to become spec projects. Although large lots are attractive to building professionals, typically they will want to find lots that are easy to subdivide into smaller lots or to re-zone and then subdivide. If a large lot is used for a spec project, it's much more likely that the builder or client already owns the property and wants to liquidate it. In that case, land acquisition is not part of the spec process anyway. "
   ]
  },
  {
   "cell_type": "code",
   "execution_count": 26,
   "id": "057386d3",
   "metadata": {},
   "outputs": [
    {
     "data": {
      "text/plain": [
       "count      2051.000000\n",
       "mean      10065.208191\n",
       "std        6742.488909\n",
       "min        1300.000000\n",
       "25%        7500.000000\n",
       "50%        9430.000000\n",
       "75%       11513.500000\n",
       "max      159000.000000\n",
       "Name: Lot Area, dtype: float64"
      ]
     },
     "execution_count": 26,
     "metadata": {},
     "output_type": "execute_result"
    }
   ],
   "source": [
    "train['Lot Area'].describe()"
   ]
  },
  {
   "cell_type": "code",
   "execution_count": 27,
   "id": "3cc8fdd2",
   "metadata": {
    "scrolled": true
   },
   "outputs": [
    {
     "name": "stderr",
     "output_type": "stream",
     "text": [
      "/Users/annelise/opt/anaconda3/lib/python3.8/site-packages/seaborn/_decorators.py:36: FutureWarning: Pass the following variable as a keyword arg: x. From version 0.12, the only valid positional argument will be `data`, and passing other arguments without an explicit keyword will result in an error or misinterpretation.\n",
      "  warnings.warn(\n"
     ]
    },
    {
     "data": {
      "image/png": "[encoded data removed]",
      "text/plain": [
       "<Figure size 864x432 with 1 Axes>"
      ]
     },
     "metadata": {
      "needs_background": "light"
     },
     "output_type": "display_data"
    }
   ],
   "source": [
    "plt.figure(figsize = (12,6))\n",
    "sns.boxplot(train['Lot Area'])\n",
    "plt.title('Distribution of Lot Area');"
   ]
  },
  {
   "cell_type": "code",
   "execution_count": 28,
   "id": "77031ae2",
   "metadata": {},
   "outputs": [
    {
     "data": {
      "image/png": "[encoded data removed]",
      "text/plain": [
       "<Figure size 576x576 with 1 Axes>"
      ]
     },
     "metadata": {
      "needs_background": "light"
     },
     "output_type": "display_data"
    }
   ],
   "source": [
    "plt.figure(figsize = (8,8))\n",
    "plt.scatter(x = train['Lot Area'], y = train['SalePrice'], s = 2)\n",
    "plt.title('Sale Price roughly increases as lot area increases')\n",
    "plt.xlabel('Lot Area')\n",
    "plt.ylabel('Home sale price');"
   ]
  },
  {
   "cell_type": "code",
   "execution_count": 29,
   "id": "dd39489f",
   "metadata": {
    "scrolled": true
   },
   "outputs": [
    {
     "data": {
      "text/plain": [
       "Id               2\n",
       "MS SubClass      2\n",
       "MS Zoning        2\n",
       "Lot Frontage     0\n",
       "Lot Area         2\n",
       "                ..\n",
       "Sale Type        2\n",
       "SalePrice        2\n",
       "has_pool         2\n",
       "bath_count       2\n",
       "deck_porch_sf    2\n",
       "Length: 68, dtype: int64"
      ]
     },
     "execution_count": 29,
     "metadata": {},
     "output_type": "execute_result"
    }
   ],
   "source": [
    "train[train['Lot Area'] >= 76850].count()"
   ]
  },
  {
   "cell_type": "code",
   "execution_count": 30,
   "id": "caac9e88",
   "metadata": {},
   "outputs": [
    {
     "data": {
      "text/html": [
       "<div>\n",
       "<style scoped>\n",
       "    .dataframe tbody tr th:only-of-type {\n",
       "        vertical-align: middle;\n",
       "    }\n",
       "\n",
       "    .dataframe tbody tr th {\n",
       "        vertical-align: top;\n",
       "    }\n",
       "\n",
       "    .dataframe thead th {\n",
       "        text-align: right;\n",
       "    }\n",
       "</style>\n",
       "<table border=\"1\" class=\"dataframe\">\n",
       "  <thead>\n",
       "    <tr style=\"text-align: right;\">\n",
       "      <th></th>\n",
       "      <th>Id</th>\n",
       "      <th>MS SubClass</th>\n",
       "      <th>MS Zoning</th>\n",
       "      <th>Lot Frontage</th>\n",
       "      <th>Lot Area</th>\n",
       "      <th>Alley</th>\n",
       "      <th>Lot Shape</th>\n",
       "      <th>Land Contour</th>\n",
       "      <th>Lot Config</th>\n",
       "      <th>Land Slope</th>\n",
       "      <th>Neighborhood</th>\n",
       "      <th>Condition 1</th>\n",
       "      <th>Condition 2</th>\n",
       "      <th>Bldg Type</th>\n",
       "      <th>House Style</th>\n",
       "      <th>Overall Qual</th>\n",
       "      <th>Overall Cond</th>\n",
       "      <th>Year Built</th>\n",
       "      <th>Year Remod/Add</th>\n",
       "      <th>Roof Style</th>\n",
       "      <th>Roof Matl</th>\n",
       "      <th>Exterior 1st</th>\n",
       "      <th>Exterior 2nd</th>\n",
       "      <th>Mas Vnr Type</th>\n",
       "      <th>Mas Vnr Area</th>\n",
       "      <th>Exter Qual</th>\n",
       "      <th>Exter Cond</th>\n",
       "      <th>Foundation</th>\n",
       "      <th>Bsmt Qual</th>\n",
       "      <th>Bsmt Cond</th>\n",
       "      <th>Bsmt Exposure</th>\n",
       "      <th>BsmtFin Type 1</th>\n",
       "      <th>BsmtFin SF 1</th>\n",
       "      <th>BsmtFin Type 2</th>\n",
       "      <th>BsmtFin SF 2</th>\n",
       "      <th>Bsmt Unf SF</th>\n",
       "      <th>Total Bsmt SF</th>\n",
       "      <th>Heating QC</th>\n",
       "      <th>Central Air</th>\n",
       "      <th>Electrical</th>\n",
       "      <th>1st Flr SF</th>\n",
       "      <th>2nd Flr SF</th>\n",
       "      <th>Low Qual Fin SF</th>\n",
       "      <th>Gr Liv Area</th>\n",
       "      <th>Bedroom AbvGr</th>\n",
       "      <th>Kitchen AbvGr</th>\n",
       "      <th>Kitchen Qual</th>\n",
       "      <th>TotRms AbvGrd</th>\n",
       "      <th>Functional</th>\n",
       "      <th>Fireplaces</th>\n",
       "      <th>Fireplace Qu</th>\n",
       "      <th>Garage Type</th>\n",
       "      <th>Garage Yr Blt</th>\n",
       "      <th>Garage Finish</th>\n",
       "      <th>Garage Cars</th>\n",
       "      <th>Garage Area</th>\n",
       "      <th>Garage Qual</th>\n",
       "      <th>Garage Cond</th>\n",
       "      <th>Paved Drive</th>\n",
       "      <th>3Ssn Porch</th>\n",
       "      <th>Fence</th>\n",
       "      <th>Mo Sold</th>\n",
       "      <th>Yr Sold</th>\n",
       "      <th>Sale Type</th>\n",
       "      <th>SalePrice</th>\n",
       "      <th>has_pool</th>\n",
       "      <th>bath_count</th>\n",
       "      <th>deck_porch_sf</th>\n",
       "    </tr>\n",
       "  </thead>\n",
       "  <tbody>\n",
       "    <tr>\n",
       "      <th>694</th>\n",
       "      <td>2072</td>\n",
       "      <td>20</td>\n",
       "      <td>RL</td>\n",
       "      <td>NaN</td>\n",
       "      <td>115149</td>\n",
       "      <td>0</td>\n",
       "      <td>IR2</td>\n",
       "      <td>Low</td>\n",
       "      <td>CulDSac</td>\n",
       "      <td>Sev</td>\n",
       "      <td>ClearCr</td>\n",
       "      <td>Norm</td>\n",
       "      <td>Norm</td>\n",
       "      <td>1Fam</td>\n",
       "      <td>1Story</td>\n",
       "      <td>7</td>\n",
       "      <td>5</td>\n",
       "      <td>1971</td>\n",
       "      <td>2002</td>\n",
       "      <td>Gable</td>\n",
       "      <td>CompShg</td>\n",
       "      <td>Plywood</td>\n",
       "      <td>Plywood</td>\n",
       "      <td>Stone</td>\n",
       "      <td>351.0</td>\n",
       "      <td>3</td>\n",
       "      <td>3</td>\n",
       "      <td>CBlock</td>\n",
       "      <td>4.0</td>\n",
       "      <td>3.0</td>\n",
       "      <td>4</td>\n",
       "      <td>GLQ</td>\n",
       "      <td>1219.0</td>\n",
       "      <td>Unf</td>\n",
       "      <td>0.0</td>\n",
       "      <td>424.0</td>\n",
       "      <td>1643.0</td>\n",
       "      <td>3</td>\n",
       "      <td>1</td>\n",
       "      <td>SBrkr</td>\n",
       "      <td>1824</td>\n",
       "      <td>0</td>\n",
       "      <td>0</td>\n",
       "      <td>1824</td>\n",
       "      <td>2</td>\n",
       "      <td>1</td>\n",
       "      <td>4</td>\n",
       "      <td>5</td>\n",
       "      <td>Typ</td>\n",
       "      <td>2</td>\n",
       "      <td>3.0</td>\n",
       "      <td>Attchd</td>\n",
       "      <td>1971.0</td>\n",
       "      <td>Unf</td>\n",
       "      <td>2.0</td>\n",
       "      <td>739.0</td>\n",
       "      <td>3.0</td>\n",
       "      <td>3.0</td>\n",
       "      <td>Y</td>\n",
       "      <td>0</td>\n",
       "      <td>0</td>\n",
       "      <td>6</td>\n",
       "      <td>2007</td>\n",
       "      <td>WD</td>\n",
       "      <td>302000</td>\n",
       "      <td>1</td>\n",
       "      <td>3.0</td>\n",
       "      <td>428</td>\n",
       "    </tr>\n",
       "    <tr>\n",
       "      <th>471</th>\n",
       "      <td>2116</td>\n",
       "      <td>50</td>\n",
       "      <td>RL</td>\n",
       "      <td>NaN</td>\n",
       "      <td>159000</td>\n",
       "      <td>0</td>\n",
       "      <td>IR2</td>\n",
       "      <td>Low</td>\n",
       "      <td>CulDSac</td>\n",
       "      <td>Sev</td>\n",
       "      <td>ClearCr</td>\n",
       "      <td>Norm</td>\n",
       "      <td>Norm</td>\n",
       "      <td>1Fam</td>\n",
       "      <td>1.5Fin</td>\n",
       "      <td>6</td>\n",
       "      <td>7</td>\n",
       "      <td>1958</td>\n",
       "      <td>2006</td>\n",
       "      <td>Gable</td>\n",
       "      <td>CompShg</td>\n",
       "      <td>Wd Sdng</td>\n",
       "      <td>HdBoard</td>\n",
       "      <td>BrkCmn</td>\n",
       "      <td>472.0</td>\n",
       "      <td>4</td>\n",
       "      <td>3</td>\n",
       "      <td>CBlock</td>\n",
       "      <td>4.0</td>\n",
       "      <td>3.0</td>\n",
       "      <td>4</td>\n",
       "      <td>Rec</td>\n",
       "      <td>697.0</td>\n",
       "      <td>Unf</td>\n",
       "      <td>0.0</td>\n",
       "      <td>747.0</td>\n",
       "      <td>1444.0</td>\n",
       "      <td>4</td>\n",
       "      <td>1</td>\n",
       "      <td>SBrkr</td>\n",
       "      <td>1444</td>\n",
       "      <td>700</td>\n",
       "      <td>0</td>\n",
       "      <td>2144</td>\n",
       "      <td>4</td>\n",
       "      <td>1</td>\n",
       "      <td>4</td>\n",
       "      <td>7</td>\n",
       "      <td>Typ</td>\n",
       "      <td>2</td>\n",
       "      <td>3.0</td>\n",
       "      <td>Attchd</td>\n",
       "      <td>1958.0</td>\n",
       "      <td>Fin</td>\n",
       "      <td>2.0</td>\n",
       "      <td>389.0</td>\n",
       "      <td>3.0</td>\n",
       "      <td>3.0</td>\n",
       "      <td>Y</td>\n",
       "      <td>0</td>\n",
       "      <td>0</td>\n",
       "      <td>6</td>\n",
       "      <td>2007</td>\n",
       "      <td>WD</td>\n",
       "      <td>277000</td>\n",
       "      <td>1</td>\n",
       "      <td>3.0</td>\n",
       "      <td>98</td>\n",
       "    </tr>\n",
       "  </tbody>\n",
       "</table>\n",
       "</div>"
      ],
      "text/plain": [
       "       Id  MS SubClass MS Zoning  Lot Frontage  Lot Area  Alley Lot Shape  \\\n",
       "694  2072           20        RL           NaN    115149      0       IR2   \n",
       "471  2116           50        RL           NaN    159000      0       IR2   \n",
       "\n",
       "    Land Contour Lot Config Land Slope Neighborhood Condition 1 Condition 2  \\\n",
       "694          Low    CulDSac        Sev      ClearCr        Norm        Norm   \n",
       "471          Low    CulDSac        Sev      ClearCr        Norm        Norm   \n",
       "\n",
       "    Bldg Type House Style  Overall Qual  Overall Cond  Year Built  \\\n",
       "694      1Fam      1Story             7             5        1971   \n",
       "471      1Fam      1.5Fin             6             7        1958   \n",
       "\n",
       "     Year Remod/Add Roof Style Roof Matl Exterior 1st Exterior 2nd  \\\n",
       "694            2002      Gable   CompShg      Plywood      Plywood   \n",
       "471            2006      Gable   CompShg      Wd Sdng      HdBoard   \n",
       "\n",
       "    Mas Vnr Type  Mas Vnr Area  Exter Qual  Exter Cond Foundation  Bsmt Qual  \\\n",
       "694        Stone         351.0           3           3     CBlock        4.0   \n",
       "471       BrkCmn         472.0           4           3     CBlock        4.0   \n",
       "\n",
       "     Bsmt Cond Bsmt Exposure BsmtFin Type 1  BsmtFin SF 1 BsmtFin Type 2  \\\n",
       "694        3.0             4            GLQ        1219.0            Unf   \n",
       "471        3.0             4            Rec         697.0            Unf   \n",
       "\n",
       "     BsmtFin SF 2  Bsmt Unf SF  Total Bsmt SF  Heating QC  Central Air  \\\n",
       "694           0.0        424.0         1643.0           3            1   \n",
       "471           0.0        747.0         1444.0           4            1   \n",
       "\n",
       "    Electrical  1st Flr SF  2nd Flr SF  Low Qual Fin SF  Gr Liv Area  \\\n",
       "694      SBrkr        1824           0                0         1824   \n",
       "471      SBrkr        1444         700                0         2144   \n",
       "\n",
       "     Bedroom AbvGr  Kitchen AbvGr  Kitchen Qual  TotRms AbvGrd Functional  \\\n",
       "694              2              1             4              5        Typ   \n",
       "471              4              1             4              7        Typ   \n",
       "\n",
       "     Fireplaces  Fireplace Qu Garage Type  Garage Yr Blt Garage Finish  \\\n",
       "694           2           3.0      Attchd         1971.0           Unf   \n",
       "471           2           3.0      Attchd         1958.0           Fin   \n",
       "\n",
       "     Garage Cars  Garage Area  Garage Qual  Garage Cond Paved Drive  \\\n",
       "694          2.0        739.0          3.0          3.0           Y   \n",
       "471          2.0        389.0          3.0          3.0           Y   \n",
       "\n",
       "     3Ssn Porch Fence  Mo Sold  Yr Sold Sale Type  SalePrice  has_pool  \\\n",
       "694           0     0        6     2007       WD      302000         1   \n",
       "471           0     0        6     2007       WD      277000         1   \n",
       "\n",
       "     bath_count  deck_porch_sf  \n",
       "694         3.0            428  \n",
       "471         3.0             98  "
      ]
     },
     "execution_count": 30,
     "metadata": {},
     "output_type": "execute_result"
    }
   ],
   "source": [
    "train.sort_values('Lot Area').tail(2)"
   ]
  },
  {
   "cell_type": "code",
   "execution_count": 31,
   "id": "b11de704",
   "metadata": {},
   "outputs": [],
   "source": [
    "train.drop(train.index[[694, 471]], inplace = True)"
   ]
  },
  {
   "cell_type": "code",
   "execution_count": 32,
   "id": "72161b78",
   "metadata": {
    "scrolled": true
   },
   "outputs": [
    {
     "name": "stderr",
     "output_type": "stream",
     "text": [
      "/Users/annelise/opt/anaconda3/lib/python3.8/site-packages/seaborn/_decorators.py:36: FutureWarning: Pass the following variable as a keyword arg: x. From version 0.12, the only valid positional argument will be `data`, and passing other arguments without an explicit keyword will result in an error or misinterpretation.\n",
      "  warnings.warn(\n"
     ]
    },
    {
     "data": {
      "image/png": "[encoded data removed]",
      "text/plain": [
       "<Figure size 864x432 with 1 Axes>"
      ]
     },
     "metadata": {
      "needs_background": "light"
     },
     "output_type": "display_data"
    }
   ],
   "source": [
    "plt.figure(figsize = (12,6))\n",
    "sns.boxplot(train['Lot Area'])\n",
    "plt.title('Distribution of Lot Area, after Outliers are removed');"
   ]
  },
  {
   "cell_type": "code",
   "execution_count": 33,
   "id": "2bfc0ae1",
   "metadata": {},
   "outputs": [
    {
     "data": {
      "image/png": "[encoded data removed]",
      "text/plain": [
       "<Figure size 576x576 with 1 Axes>"
      ]
     },
     "metadata": {
      "needs_background": "light"
     },
     "output_type": "display_data"
    }
   ],
   "source": [
    "plt.figure(figsize = (8,8))\n",
    "plt.scatter(x = train['Lot Area'], y = train['SalePrice'], s = 2)\n",
    "plt.title('Sale Price roughly increases as lot area increases, after outliers are removed')\n",
    "plt.xlabel('Lot Area')\n",
    "plt.ylabel('Home sale price');"
   ]
  },
  {
   "cell_type": "markdown",
   "id": "9fea3308",
   "metadata": {},
   "source": [
    "#### Overall Quality and Condition\n",
    "The Ames dataset contains two variables that seem synonymous: `Overall Quality` and `Overall Condition`. *Overall Quality* refers to the grade of building materials used to build the home, such as vinyl windows rather than aluminum windows, or marble countertops rather than laminate. *Overall Condition* refers to how well-maintained the home is. Imagine the granny with the sparkling kitchen that hasn't been updated since 1960 and you'll understand how these variables are in fact independent of each other.\n",
    "\n",
    "Both variables are on the same 10-point rating scale and have a similar mean across the dataset. However, the distribution is different, with `Overall Quality` following a roughly normal distribution and `Overall Condition` showing a huge spike at the median. Plotting the relationship to each other does not show any obvious pattern. Again, we can be confident that they are operating independently in this data set. \n",
    "\n",
    "But how important are they when it comes to sale price?\n",
    "\n",
    "To find out, I created an interaction variable, `qual_cond`. Then I plotted Sale Price against each of the three variables. A linear relationship is most apparent when looking at Overall Quality. \n",
    "\n",
    "Overall Condition alone shows some linearity at the very bottom of the scale, but we already know that there are very few houses in that range. Houses in the middle of the rating scale dominate the sample and have a wide range of sale prices. Beyond the mean, there is almost no linearity at all. Overall Condition does not appear to be a meaningful driver of Sale Price.\n",
    "\n",
    "The usefulness of the interaction variable will be diminished by the uselessness of Overall Condition. Based on these observations, I determined not to use Overall Condition alone nor the interaction variable `qual_cond`."
   ]
  },
  {
   "cell_type": "code",
   "execution_count": 34,
   "id": "b94e7cf3",
   "metadata": {},
   "outputs": [
    {
     "data": {
      "text/plain": [
       "count    2049.000000\n",
       "mean        6.111762\n",
       "std         1.426830\n",
       "min         1.000000\n",
       "25%         5.000000\n",
       "50%         6.000000\n",
       "75%         7.000000\n",
       "max        10.000000\n",
       "Name: Overall Qual, dtype: float64"
      ]
     },
     "execution_count": 34,
     "metadata": {},
     "output_type": "execute_result"
    }
   ],
   "source": [
    "train['Overall Qual'].describe()"
   ]
  },
  {
   "cell_type": "code",
   "execution_count": 35,
   "id": "fd2021e2",
   "metadata": {},
   "outputs": [
    {
     "data": {
      "text/plain": [
       "count    2049.000000\n",
       "mean        5.561737\n",
       "std         1.104510\n",
       "min         1.000000\n",
       "25%         5.000000\n",
       "50%         5.000000\n",
       "75%         6.000000\n",
       "max         9.000000\n",
       "Name: Overall Cond, dtype: float64"
      ]
     },
     "execution_count": 35,
     "metadata": {},
     "output_type": "execute_result"
    }
   ],
   "source": [
    "train['Overall Cond'].describe()"
   ]
  },
  {
   "cell_type": "code",
   "execution_count": 36,
   "id": "8782e7e5",
   "metadata": {},
   "outputs": [
    {
     "data": {
      "image/png": "[encoded data removed]",
      "text/plain": [
       "<Figure size 432x288 with 1 Axes>"
      ]
     },
     "metadata": {
      "needs_background": "light"
     },
     "output_type": "display_data"
    }
   ],
   "source": [
    "plt.hist(train['Overall Qual'], bins = 10)\n",
    "plt.title('Distribution of Overall Quality');"
   ]
  },
  {
   "cell_type": "code",
   "execution_count": 37,
   "id": "d70645e7",
   "metadata": {},
   "outputs": [
    {
     "data": {
      "image/png": "[encoded data removed]",
      "text/plain": [
       "<Figure size 432x288 with 1 Axes>"
      ]
     },
     "metadata": {
      "needs_background": "light"
     },
     "output_type": "display_data"
    }
   ],
   "source": [
    "plt.hist(train['Overall Cond'], bins = 10)\n",
    "plt.title('Distribution of Overall Condition');"
   ]
  },
  {
   "cell_type": "code",
   "execution_count": 38,
   "id": "20918b67",
   "metadata": {},
   "outputs": [
    {
     "data": {
      "image/png": "[encoded data removed]",
      "text/plain": [
       "<Figure size 432x288 with 1 Axes>"
      ]
     },
     "metadata": {
      "needs_background": "light"
     },
     "output_type": "display_data"
    }
   ],
   "source": [
    "plt.scatter(x = train['Overall Cond'], y = train['Overall Qual'])\n",
    "plt.title('Overall Quality versus Overall Condition shows little relationship')\n",
    "plt.xlabel('Condition of home')\n",
    "plt.ylabel('Quality of home');"
   ]
  },
  {
   "cell_type": "code",
   "execution_count": 39,
   "id": "261aa612",
   "metadata": {
    "scrolled": true
   },
   "outputs": [
    {
     "data": {
      "image/png": "[encoded data removed]",
      "text/plain": [
       "<Figure size 432x288 with 1 Axes>"
      ]
     },
     "metadata": {
      "needs_background": "light"
     },
     "output_type": "display_data"
    }
   ],
   "source": [
    "plt.scatter(x = train['Overall Qual'], y = train['SalePrice'], s = 2)\n",
    "plt.title('Sale Price increases as Overall Quality increases')\n",
    "plt.xlabel('Quality of home')\n",
    "plt.ylabel('Sale Price');"
   ]
  },
  {
   "cell_type": "code",
   "execution_count": 40,
   "id": "7732964e",
   "metadata": {
    "scrolled": true
   },
   "outputs": [
    {
     "data": {
      "image/png": "[encoded data removed]",
      "text/plain": [
       "<Figure size 432x288 with 1 Axes>"
      ]
     },
     "metadata": {
      "needs_background": "light"
     },
     "output_type": "display_data"
    }
   ],
   "source": [
    "plt.scatter(x = train['Overall Cond'], y = train['SalePrice'], s = 2)\n",
    "plt.title('Sale Price by Overall Home Condition')\n",
    "plt.xlabel('Condition of home')\n",
    "plt.ylabel('Sale Price');"
   ]
  },
  {
   "cell_type": "code",
   "execution_count": 41,
   "id": "b18b2781",
   "metadata": {},
   "outputs": [],
   "source": [
    "train['qual_cond'] = train['Overall Qual'] * train['Overall Cond']\n",
    "test['qual_cond'] = test['Overall Qual'] * test['Overall Cond']"
   ]
  },
  {
   "cell_type": "code",
   "execution_count": 42,
   "id": "4fafbe1c",
   "metadata": {
    "scrolled": true
   },
   "outputs": [
    {
     "data": {
      "image/png": "[encoded data removed]",
      "text/plain": [
       "<Figure size 432x288 with 1 Axes>"
      ]
     },
     "metadata": {
      "needs_background": "light"
     },
     "output_type": "display_data"
    }
   ],
   "source": [
    "plt.scatter(x = train['qual_cond'], y = train['SalePrice'], s = 2)\n",
    "plt.title('Sale Price increases as Overall Quality and Condition increase')\n",
    "plt.xlabel('Quality x Condition of home')\n",
    "plt.ylabel('Sale Price');"
   ]
  },
  {
   "cell_type": "code",
   "execution_count": 43,
   "id": "057ddc3f",
   "metadata": {},
   "outputs": [],
   "source": [
    "train.to_csv('clean_train.csv', index = False)\n",
    "test.to_csv('clean_test.csv', index = False)"
   ]
  },
  {
   "cell_type": "markdown",
   "id": "015e1e26",
   "metadata": {},
   "source": [
    "## Modeling\n",
    "\n",
    "## Baseline OLS Model\n",
    "\n",
    "The baseline model is focused on features of the land only. Not only is it somewhat useful to have a model that focuses on land for people who need to buy a lot for their project, but once the land is selected, those features can't be altered. All the value-added will come from the building itself. \n",
    "\n",
    "After several iterations of this model, I settled on the following features and created a separate data frame for lots only. I threw out `Lot Shape`, `Lot Config`, and `Lot Frontage` because they were not improving the evaluation metrics, and I was concerned that leaving them in could increase variance. \n",
    "\n",
    "I dummified the categorical variables and scaled the data before modeling. \n",
    "\n",
    "I chose `train_test_split` to validate the data because the size of the dataset allowed it and it was easier to use on scaled data. \n",
    "\n",
    "These are the validation scores of the baseline model:\n",
    "\n",
    "|Model|Metric|Dataset|Value|\n",
    "|---|---|---|---|\n",
    "|Baseline OLS|RMSE|Train|\\\\$48,276.45|\n",
    "|Baseline OLS|RMSE|Test|\\\\$43,997.25|\n",
    "|Baseline OLS|R$^2$|Train|0.645|\n",
    "|Baseline OLS|R$^2$|Test|0.641|\n",
    "\n",
    "The baseline has low variance but can only explain about 64% of the predictions. The price is too high by around \\\\$44k - \\\\$48k. \n",
    "\n",
    "Adding features should help the next version of the model achieve lower bias without sacrificing too much variance. The baseline model was not regularized, so if variance becomes an issue in the next version of the model, regularization may be able to help address it.  "
   ]
  },
  {
   "cell_type": "code",
   "execution_count": 44,
   "id": "f772b935",
   "metadata": {},
   "outputs": [],
   "source": [
    "#create a dataframe focused on features of the land itself\n",
    "train_lots = pd.DataFrame(train, columns = ['Id', 'SalePrice', 'Lot Config', 'MS Zoning', 'Lot Area', 'Land Contour', 'Neighborhood'])\n",
    "test_lots = pd.DataFrame(test, columns = ['Id', 'Lot Config', 'MS Zoning', 'Lot Area', 'Land Contour', 'Neighborhood'])"
   ]
  },
  {
   "cell_type": "code",
   "execution_count": 45,
   "id": "55a4b1ad",
   "metadata": {},
   "outputs": [],
   "source": [
    "train_lots = pd.get_dummies(data = train_lots, columns = ['MS Zoning', 'Lot Config', 'Land Contour', 'Neighborhood'], drop_first = True)\n",
    "test_lots = pd.get_dummies(data = test, columns = ['MS Zoning', 'Land Contour', 'Lot Config', 'Neighborhood'], drop_first = True)"
   ]
  },
  {
   "cell_type": "code",
   "execution_count": 46,
   "id": "706a57a0",
   "metadata": {},
   "outputs": [],
   "source": [
    "X_lots = train_lots.drop(columns = ['SalePrice', 'Id'])\n",
    "y_lots = train_lots['SalePrice']\n",
    "X_train, X_test, y_train, y_test = train_test_split(X_lots, y_lots, random_state = 42)"
   ]
  },
  {
   "cell_type": "code",
   "execution_count": 47,
   "id": "22370e3a",
   "metadata": {},
   "outputs": [
    {
     "data": {
      "text/plain": [
       "LinearRegression()"
      ]
     },
     "execution_count": 47,
     "metadata": {},
     "output_type": "execute_result"
    }
   ],
   "source": [
    "model_lots = LinearRegression()\n",
    "model_lots.fit(X_train, y_train)"
   ]
  },
  {
   "cell_type": "code",
   "execution_count": 48,
   "id": "861a1c26",
   "metadata": {},
   "outputs": [
    {
     "data": {
      "text/plain": [
       "48276.45737542427"
      ]
     },
     "execution_count": 48,
     "metadata": {},
     "output_type": "execute_result"
    }
   ],
   "source": [
    "#RMSE of training data\n",
    "y_pred_train = model_lots.predict(X_train)\n",
    "metrics.mean_squared_error(y_train, y_pred_train, squared = False)"
   ]
  },
  {
   "cell_type": "code",
   "execution_count": 49,
   "id": "b5634ceb",
   "metadata": {},
   "outputs": [
    {
     "data": {
      "text/plain": [
       "43997.2535722301"
      ]
     },
     "execution_count": 49,
     "metadata": {},
     "output_type": "execute_result"
    }
   ],
   "source": [
    "#RMSE of test data\n",
    "y_pred = model_lots.predict(X_test)\n",
    "metrics.mean_squared_error(y_test, y_pred, squared = False)"
   ]
  },
  {
   "cell_type": "code",
   "execution_count": 50,
   "id": "8276c78c",
   "metadata": {
    "scrolled": true
   },
   "outputs": [
    {
     "data": {
      "text/plain": [
       "(0.644913737156344, 0.6405515821103629)"
      ]
     },
     "execution_count": 50,
     "metadata": {},
     "output_type": "execute_result"
    }
   ],
   "source": [
    "# R2 scores of train and test data\n",
    "model_lots.score(X_train, y_train), model_lots.score(X_test, y_test)"
   ]
  },
  {
   "cell_type": "code",
   "execution_count": 51,
   "id": "655ac3d3",
   "metadata": {},
   "outputs": [
    {
     "data": {
      "text/plain": [
       "{(-108925.08020200944, 'Neighborhood_IDOTRR'),\n",
       " (-105429.84987597389, 'Neighborhood_MeadowV'),\n",
       " (-103085.37966623565, 'Neighborhood_Landmrk'),\n",
       " (-101943.55345688065, 'Neighborhood_BrDale'),\n",
       " (-99945.10531303319, 'Neighborhood_OldTown'),\n",
       " (-90523.7298551707, 'Neighborhood_Edwards'),\n",
       " (-89337.44849315731, 'Neighborhood_BrkSide'),\n",
       " (-83604.75290075126, 'Neighborhood_Sawyer'),\n",
       " (-78144.94666685931, 'Neighborhood_Blueste'),\n",
       " (-73990.5836319128, 'Neighborhood_NAmes'),\n",
       " (-73905.43457705791, 'Neighborhood_SWISU'),\n",
       " (-59977.50832367229, 'Neighborhood_Mitchel'),\n",
       " (-46066.75971835221, 'Neighborhood_NPkVill'),\n",
       " (-38563.72725778401, 'Neighborhood_Gilbert'),\n",
       " (-36605.7207666449, 'Neighborhood_Crawfor'),\n",
       " (-33935.01216996065, 'Neighborhood_ClearCr'),\n",
       " (-32740.48049838151, 'Neighborhood_NWAmes'),\n",
       " (-28290.64173337905, 'Neighborhood_SawyerW'),\n",
       " (-21741.18367180976, 'Lot Config_FR2'),\n",
       " (-21444.602735117616, 'Lot Config_FR3'),\n",
       " (-17266.421498281765, 'Neighborhood_CollgCr'),\n",
       " (-6437.923551543355, 'Land Contour_Low'),\n",
       " (3.422771393855533, 'Lot Area'),\n",
       " (35.382028248778894, 'Lot Config_Inside'),\n",
       " (802.8370575696991, 'Neighborhood_Timber'),\n",
       " (8196.523697756496, 'Neighborhood_Greens'),\n",
       " (13765.192139103288, 'Lot Config_CulDSac'),\n",
       " (15755.201770840811, 'Land Contour_Lvl'),\n",
       " (20597.844862180125, 'Neighborhood_Veenker'),\n",
       " (27593.914352791537, 'MS Zoning_I (all)'),\n",
       " (33364.56177581842, 'Neighborhood_Somerst'),\n",
       " (49719.00585669142, 'Neighborhood_GrnHill'),\n",
       " (60728.940883591844, 'Land Contour_HLS'),\n",
       " (90745.70420400103, 'Neighborhood_StoneBr'),\n",
       " (94381.44691048849, 'Neighborhood_NoRidge'),\n",
       " (100337.34045159351, 'MS Zoning_FV'),\n",
       " (100364.60828570864, 'MS Zoning_C (all)'),\n",
       " (105311.33104988904, 'Neighborhood_NridgHt'),\n",
       " (120114.91840303832, 'MS Zoning_RL'),\n",
       " (135064.42393616936, 'MS Zoning_RM'),\n",
       " (163314.1245005839, 'MS Zoning_RH')}"
      ]
     },
     "execution_count": 51,
     "metadata": {},
     "output_type": "execute_result"
    }
   ],
   "source": [
    "set(zip(model_lots.coef_, X_lots))"
   ]
  },
  {
   "cell_type": "markdown",
   "id": "17810873",
   "metadata": {},
   "source": [
    "Some conclusions can be drawn even from this baseline model. This may help guide people who are trying to buy an empty lot for their spec project. \n",
    "\n",
    "1. **Less dense is preferred.** Low or medium density residential zones can raise final home price by about \\\\$40,000 over high density zoned lots. Moreover, larger lots are associated with higher house prices. \n",
    "2. **Some neighborhoods can raise home values signficantly.** Northridge Heights can raise home prices \\\\$51,647 over the median home price for this dataset (\\\\$162,500) Northridge and Stonebridge can raise the price around \\\\$30k over the median. On the other hand many locations depress home values, including North Ames, Old Town, Edwards, Iowa DOT and Rail Road, and Sawyer. \n",
    "3. **Hills are attractive.** A hilly lot can raise the home price about \\\\$6500 over level lots. I suspect that some of these sloping lots may have good views or other appealing natural features. Moreover, building on a steep slope usually requires a custom-built home, which may result in a higher quality overall. As we will see below, the overall quality of a house is a major driver of sale price."
   ]
  },
  {
   "cell_type": "markdown",
   "id": "deaf45e0",
   "metadata": {},
   "source": [
    "## Improved OLS Model\n",
    "\n",
    "Before undertaking spec projects, architects want to compare to other new construction. Therefore, I intended to only include homes that were 10 years old or less, or had been remodeled within the last 6 years, at the time the data was collected. These were homes in the highest quartile for age or remodel age. However, this resulted in too little data to train and validate the model. Given a larger dataset, I would like to try to produce a new construction focused model. \n",
    "\n",
    "After iterating through the model several times and looking at LASSO coefficients, I settled on the features below. I also included all the features from the baseline model.  \n",
    "\n",
    "I added the validation scores for this model to the table from above. \n",
    "\n",
    "|Model|Metric|Dataset|Value|\n",
    "|---|---|---|---|\n",
    "|Baseline OLS|RMSE|Train|\\\\$48,276.45|\n",
    "|Baseline OLS|RMSE|Test|\\\\$43,997.25|\n",
    "|Baseline OLS|R$^2$|Train|0.645|\n",
    "|Baseline OLS|R$^2$|Test|0.641|\n",
    "|Improved OLS|RMSE|Train|\\\\$29698.51|\n",
    "|Improved OLS|RMSE|Test|\\\\$26858.26|\n",
    "|Improved OLS|R$^2$|Train|0.866|\n",
    "|Improved OLS|R$^2$|Test|0.866|\n",
    "\n",
    "This model has better bias and the variance is lower. Already, it is an improvement over the baseline. In the next section, I will try two regularizing models, RidgeCV and LASSO CV, to see if they improve the model further. "
   ]
  },
  {
   "cell_type": "code",
   "execution_count": 52,
   "id": "bb0a018e",
   "metadata": {},
   "outputs": [],
   "source": [
    "train_house = pd.DataFrame(data = train, columns = ['Id', 'MS Zoning', 'Lot Area', \n",
    "       'Land Contour', 'Lot Config', 'Neighborhood', 'House Style',\n",
    "       'Overall Qual', 'Year Built', 'Year Remod/Add','Roof Matl', 'Mas Vnr Area',\n",
    "       'Foundation', 'Total Bsmt SF', 'Central Air',\n",
    "       'Gr Liv Area', 'Bedroom AbvGr', 'Fireplaces', \n",
    "       'Garage Area', 'SalePrice','has_pool', 'bath_count', 'deck_porch_sf'])\n",
    "test_house = pd.DataFrame(data = test, columns = ['Id', 'MS Zoning', 'Lot Area', \n",
    "       'Land Contour', 'Lot Config', 'Neighborhood', 'House Style',\n",
    "       'Overall Qual', 'Year Built', 'Year Remod/Add','Roof Matl', 'Mas Vnr Area',\n",
    "       'Foundation', 'Total Bsmt SF', 'Central Air',\n",
    "       'Gr Liv Area', 'Bedroom AbvGr', 'Fireplaces', \n",
    "       'Garage Area', 'SalePrice','has_pool', 'bath_count', 'deck_porch_sf'])"
   ]
  },
  {
   "cell_type": "code",
   "execution_count": 53,
   "id": "0dd3f72a",
   "metadata": {},
   "outputs": [],
   "source": [
    "train_house = pd.get_dummies(data = train_house, columns = ['MS Zoning',\n",
    "       'Land Contour', 'Lot Config', 'Neighborhood', 'House Style',\n",
    "       'Roof Matl', 'Foundation'], drop_first = True)\n",
    "test_house = pd.get_dummies(data = test_house, columns = ['MS Zoning',\n",
    "       'Land Contour', 'Lot Config', 'Neighborhood', 'House Style',\n",
    "       'Roof Matl', 'Foundation'], drop_first = True)"
   ]
  },
  {
   "cell_type": "code",
   "execution_count": 54,
   "id": "f2055d3e",
   "metadata": {},
   "outputs": [],
   "source": [
    "X_house = train_house.drop(columns = ['SalePrice', 'Id'])\n",
    "y_house = train_house['SalePrice']\n",
    "X_train, X_test, y_train, y_test = train_test_split(X_house, y_house, random_state = 42)"
   ]
  },
  {
   "cell_type": "code",
   "execution_count": 55,
   "id": "941b4b85",
   "metadata": {},
   "outputs": [
    {
     "data": {
      "text/plain": [
       "LinearRegression()"
      ]
     },
     "execution_count": 55,
     "metadata": {},
     "output_type": "execute_result"
    }
   ],
   "source": [
    "model_house = LinearRegression()\n",
    "model_house.fit(X_train, y_train)"
   ]
  },
  {
   "cell_type": "code",
   "execution_count": 56,
   "id": "cb8271ff",
   "metadata": {
    "scrolled": false
   },
   "outputs": [
    {
     "data": {
      "text/plain": [
       "(0.8656207077787231, 0.866050422437537)"
      ]
     },
     "execution_count": 56,
     "metadata": {},
     "output_type": "execute_result"
    }
   ],
   "source": [
    "model_house.score(X_train, y_train), model_house.score(X_test, y_test)"
   ]
  },
  {
   "cell_type": "code",
   "execution_count": 57,
   "id": "c00995b3",
   "metadata": {},
   "outputs": [
    {
     "data": {
      "text/plain": [
       "29698.508039578657"
      ]
     },
     "execution_count": 57,
     "metadata": {},
     "output_type": "execute_result"
    }
   ],
   "source": [
    "y_pred = model_house.predict(X_train)\n",
    "metrics.mean_squared_error(y_train, y_pred, squared = False)"
   ]
  },
  {
   "cell_type": "code",
   "execution_count": 58,
   "id": "862c80b2",
   "metadata": {},
   "outputs": [
    {
     "data": {
      "text/plain": [
       "26858.264933206425"
      ]
     },
     "execution_count": 58,
     "metadata": {},
     "output_type": "execute_result"
    }
   ],
   "source": [
    "y_pred_test = model_house.predict(X_test)\n",
    "metrics.mean_squared_error(y_test, y_pred_test, squared = False)"
   ]
  },
  {
   "cell_type": "code",
   "execution_count": 59,
   "id": "7f504478",
   "metadata": {},
   "outputs": [
    {
     "data": {
      "text/plain": [
       "{(-15695.875484068798, 'Neighborhood_Landmrk'),\n",
       " (-11325.350073647716, 'Neighborhood_Blueste'),\n",
       " (-11138.956465656765, 'has_pool'),\n",
       " (-10942.022319605841, 'Lot Config_FR3'),\n",
       " (-9999.98016881315, 'Neighborhood_BrDale'),\n",
       " (-7798.6395310600365, 'Lot Config_FR2'),\n",
       " (-7530.860373202283, 'Neighborhood_NPkVill'),\n",
       " (-5408.628268159642, 'Neighborhood_NWAmes'),\n",
       " (-2109.9122580722124, 'Bedroom AbvGr'),\n",
       " (-1708.5403574729708, 'Neighborhood_Gilbert'),\n",
       " (-874.4223490017376, 'Neighborhood_SawyerW'),\n",
       " (0.9018091828006146, 'Lot Area'),\n",
       " (21.78463040512088, 'Total Bsmt SF'),\n",
       " (22.51848764037277, 'Mas Vnr Area'),\n",
       " (22.766690373940833, 'deck_porch_sf'),\n",
       " (27.57094752008379, 'Garage Area'),\n",
       " (39.92881384549128, 'Gr Liv Area'),\n",
       " (182.0864542960622, 'Year Built'),\n",
       " (195.6689563811001, 'Year Remod/Add'),\n",
       " (517.8942243030781, 'House Style_2Story'),\n",
       " (697.2712304144179, 'Lot Config_Inside'),\n",
       " (884.9393116068936, 'Foundation_CBlock'),\n",
       " (1020.8820991901459, 'Central Air'),\n",
       " (1236.4802550301615, 'Neighborhood_Edwards'),\n",
       " (3492.3181918563077, 'Neighborhood_SWISU'),\n",
       " (3898.208401390083, 'Neighborhood_Mitchel'),\n",
       " (4202.310695920471, 'Foundation_PConc'),\n",
       " (4290.851963105886, 'House Style_SLvl'),\n",
       " (5041.983540105352, 'House Style_1Story'),\n",
       " (5653.523532627775, 'Neighborhood_Sawyer'),\n",
       " (6080.546587502504, 'Neighborhood_NAmes'),\n",
       " (6299.076236371781, 'Neighborhood_MeadowV'),\n",
       " (6363.742027109587, 'Fireplaces'),\n",
       " (6727.216055569792, 'Lot Config_CulDSac'),\n",
       " (6755.514688176887, 'Neighborhood_ClearCr'),\n",
       " (6757.7798632866925, 'bath_count'),\n",
       " (6964.1857627548015, 'MS Zoning_RM'),\n",
       " (7280.173761090401, 'House Style_1.5Unf'),\n",
       " (8135.037539263376, 'Neighborhood_CollgCr'),\n",
       " (8999.353697545062, 'Foundation_Slab'),\n",
       " (9180.3823693419, 'House Style_SFoyer'),\n",
       " (9213.082535052017, 'Foundation_Wood'),\n",
       " (9447.327759361999, 'House Style_2.5Fin'),\n",
       " (9562.532225669991, 'Neighborhood_OldTown'),\n",
       " (9861.358824709689, 'Land Contour_Lvl'),\n",
       " (10186.545813395382, 'House Style_2.5Unf'),\n",
       " (10807.69667829983, 'MS Zoning_FV'),\n",
       " (10857.722531607145, 'MS Zoning_C (all)'),\n",
       " (11745.15265843509, 'Land Contour_Low'),\n",
       " (13707.623402580588, 'Neighborhood_Veenker'),\n",
       " (13890.157308429594, 'Neighborhood_Timber'),\n",
       " (14011.357977229367, 'MS Zoning_RL'),\n",
       " (14495.89915969969, 'Overall Qual'),\n",
       " (15222.668874924968, 'Neighborhood_Greens'),\n",
       " (15471.204311658139, 'Foundation_Stone'),\n",
       " (15874.825671094324, 'Neighborhood_Somerst'),\n",
       " (17252.618982221193, 'Neighborhood_IDOTRR'),\n",
       " (19324.193896109373, 'MS Zoning_RH'),\n",
       " (20377.206382485914, 'Neighborhood_BrkSide'),\n",
       " (24941.4833134954, 'Neighborhood_Crawfor'),\n",
       " (26809.1441812014, 'MS Zoning_I (all)'),\n",
       " (35028.64177448071, 'Land Contour_HLS'),\n",
       " (36509.7786930844, 'Neighborhood_NoRidge'),\n",
       " (57623.0505610989, 'Neighborhood_NridgHt'),\n",
       " (58511.53623081878, 'Neighborhood_StoneBr'),\n",
       " (112780.670068119, 'Neighborhood_GrnHill'),\n",
       " (471044.1333928223, 'Roof Matl_Tar&Grv'),\n",
       " (484263.52227083454, 'Roof Matl_WdShake'),\n",
       " (485672.6727714749, 'Roof Matl_CompShg'),\n",
       " (496605.2049052906, 'Roof Matl_Membran'),\n",
       " (537076.7100170904, 'Roof Matl_WdShngl')}"
      ]
     },
     "execution_count": 59,
     "metadata": {},
     "output_type": "execute_result"
    }
   ],
   "source": [
    "set(zip(model_house.coef_, X_house))"
   ]
  },
  {
   "cell_type": "markdown",
   "id": "71897c26",
   "metadata": {},
   "source": [
    "## LassoCV"
   ]
  },
  {
   "cell_type": "code",
   "execution_count": 60,
   "id": "fb6bdbef",
   "metadata": {},
   "outputs": [
    {
     "data": {
      "text/plain": [
       "LassoCV(alphas=array([0.001     , 0.0011514 , 0.00132571, 0.00152642, 0.00175751,\n",
       "       0.00202359, 0.00232995, 0.0026827 , 0.00308884, 0.00355648,\n",
       "       0.00409492, 0.00471487, 0.00542868, 0.00625055, 0.00719686,\n",
       "       0.00828643, 0.00954095, 0.01098541, 0.01264855, 0.01456348,\n",
       "       0.01676833, 0.01930698, 0.02222996, 0.02559548, 0.02947052,\n",
       "       0.03393222, 0.0390694 , 0.04498433, 0.05179475, 0.05963623,\n",
       "       0.06866488, 0.07906043, 0.09102982, 0.10481131, 0.12067926,\n",
       "       0.13894955, 0.15998587, 0.184207  , 0.21209509, 0.24420531,\n",
       "       0.28117687, 0.32374575, 0.37275937, 0.42919343, 0.49417134,\n",
       "       0.5689866 , 0.65512856, 0.75431201, 0.86851137, 1.        ]),\n",
       "        cv=5, max_iter=100000)"
      ]
     },
     "execution_count": 60,
     "metadata": {},
     "output_type": "execute_result"
    }
   ],
   "source": [
    "alphas = np.logspace(-3,0)\n",
    "lasso_cv = LassoCV(alphas = alphas, cv = 5, max_iter = 100_000)\n",
    "ss = StandardScaler()\n",
    "Z_house_train = ss.fit_transform(X_train)\n",
    "Z_house_test = ss.transform(X_test)\n",
    "lasso_cv.fit(Z_house_train, y_train)"
   ]
  },
  {
   "cell_type": "code",
   "execution_count": 61,
   "id": "ca156f76",
   "metadata": {},
   "outputs": [
    {
     "data": {
      "text/plain": [
       "29698.548381595072"
      ]
     },
     "execution_count": 61,
     "metadata": {},
     "output_type": "execute_result"
    }
   ],
   "source": [
    "lasso_preds_train = lasso_cv.predict(Z_house_train)\n",
    "metrics.mean_squared_error(y_train, lasso_preds_train, squared = False)"
   ]
  },
  {
   "cell_type": "code",
   "execution_count": 62,
   "id": "371ed65b",
   "metadata": {},
   "outputs": [
    {
     "data": {
      "text/plain": [
       "26858.666653045817"
      ]
     },
     "execution_count": 62,
     "metadata": {},
     "output_type": "execute_result"
    }
   ],
   "source": [
    "lasso_preds_test = lasso_cv.predict(Z_house_test)\n",
    "metrics.mean_squared_error(y_test, lasso_preds_test, squared = False)"
   ]
  },
  {
   "cell_type": "code",
   "execution_count": 63,
   "id": "9d54e137",
   "metadata": {},
   "outputs": [
    {
     "data": {
      "text/plain": [
       "(0.8656203427007679, 0.8660464154322194)"
      ]
     },
     "execution_count": 63,
     "metadata": {},
     "output_type": "execute_result"
    }
   ],
   "source": [
    "lasso_cv.score(Z_house_train, y_train), lasso_cv.score(Z_house_test, y_test)"
   ]
  },
  {
   "cell_type": "code",
   "execution_count": 64,
   "id": "44ef48e0",
   "metadata": {},
   "outputs": [
    {
     "data": {
      "text/plain": [
       "{(-1722.719763360723, 'Bedroom AbvGr'),\n",
       " (-1314.3292196554848, 'Lot Config_FR2'),\n",
       " (-1128.8503689857534, 'Neighborhood_NWAmes'),\n",
       " (-1043.5352612020617, 'Neighborhood_BrDale'),\n",
       " (-765.1108165859333, 'Neighborhood_NPkVill'),\n",
       " (-722.2695211517203, 'Neighborhood_Blueste'),\n",
       " (-687.8088658363404, 'has_pool'),\n",
       " (-622.4892002510246, 'Lot Config_FR3'),\n",
       " (-433.55521821310305, 'Neighborhood_Gilbert'),\n",
       " (-405.369649118147, 'Neighborhood_Landmrk'),\n",
       " (-224.78003752916732, 'Neighborhood_SawyerW'),\n",
       " (224.41361727798798, 'House Style_2Story'),\n",
       " (242.03044134380733, 'Neighborhood_Edwards'),\n",
       " (256.51683886304585, 'Central Air'),\n",
       " (302.39157962229444, 'Lot Config_Inside'),\n",
       " (330.98730051505606, 'Foundation_Wood'),\n",
       " (377.1813115382526, 'Neighborhood_SWISU'),\n",
       " (381.0727122364588, 'Neighborhood_Greens'),\n",
       " (426.650684678683, 'Foundation_CBlock'),\n",
       " (452.2555266774039, 'House Style_1.5Unf'),\n",
       " (479.3456456563243, 'House Style_2.5Fin'),\n",
       " (658.1228989518696, 'MS Zoning_I (all)'),\n",
       " (664.4738311939126, 'Neighborhood_MeadowV'),\n",
       " (698.2308975210792, 'Neighborhood_Mitchel'),\n",
       " (737.7907253935962, 'Neighborhood_ClearCr'),\n",
       " (786.492476707454, 'Foundation_Stone'),\n",
       " (815.7605049984004, 'House Style_2.5Unf'),\n",
       " (859.3662404904546, 'House Style_SLvl'),\n",
       " (903.4405514035739, 'MS Zoning_C (all)'),\n",
       " (1185.61000996702, 'Neighborhood_Veenker'),\n",
       " (1195.7202354470735, 'Foundation_Slab'),\n",
       " (1245.1568273118367, 'Neighborhood_Sawyer'),\n",
       " (1386.2170318000865, 'House Style_SFoyer'),\n",
       " (1470.536409720094, 'MS Zoning_RH'),\n",
       " (1660.6345171248608, 'Lot Config_CulDSac'),\n",
       " (1695.6293466635163, 'Land Contour_Low'),\n",
       " (2022.342930308184, 'Neighborhood_NAmes'),\n",
       " (2079.0327772403266, 'Foundation_PConc'),\n",
       " (2168.5831704827074, 'MS Zoning_FV'),\n",
       " (2173.9334201551833, 'MS Zoning_RM'),\n",
       " (2175.2907860471855, 'Neighborhood_Timber'),\n",
       " (2268.12861451244, 'Neighborhood_CollgCr'),\n",
       " (2401.837363699481, 'Neighborhood_OldTown'),\n",
       " (2508.320272218004, 'House Style_1Story'),\n",
       " (2946.803639623568, 'Land Contour_Lvl'),\n",
       " (3196.0280665008563, 'Neighborhood_IDOTRR'),\n",
       " (3621.756014180104, 'deck_porch_sf'),\n",
       " (3916.3797249044364, 'Neighborhood_Somerst'),\n",
       " (3944.3808069734546, 'Mas Vnr Area'),\n",
       " (4008.3118546593337, 'Neighborhood_BrkSide'),\n",
       " (4025.028546119871, 'Fireplaces'),\n",
       " (4057.17902769909, 'Neighborhood_GrnHill'),\n",
       " (4501.463272627081, 'Neighborhood_Crawfor'),\n",
       " (5039.66616826066, 'Lot Area'),\n",
       " (5088.337777482583, 'Year Remod/Add'),\n",
       " (5414.255200904994, 'Neighborhood_NoRidge'),\n",
       " (5440.858774155363, 'MS Zoning_RL'),\n",
       " (5510.7703189677, 'Year Built'),\n",
       " (6031.273322942002, 'Garage Area'),\n",
       " (6482.383302990772, 'bath_count'),\n",
       " (6943.236212997251, 'Land Contour_HLS'),\n",
       " (7659.628374645819, 'Neighborhood_StoneBr'),\n",
       " (10137.273511913487, 'Total Bsmt SF'),\n",
       " (12646.544380961632, 'Roof Matl_Membran'),\n",
       " (13691.298822057224, 'Neighborhood_NridgHt'),\n",
       " (20459.84785310009, 'Gr Liv Area'),\n",
       " (20986.22752548865, 'Overall Qual'),\n",
       " (24638.52745944258, 'Roof Matl_WdShake'),\n",
       " (27332.6921042383, 'Roof Matl_WdShngl'),\n",
       " (39652.46219609199, 'Roof Matl_Tar&Grv'),\n",
       " (56305.159343686246, 'Roof Matl_CompShg')}"
      ]
     },
     "execution_count": 64,
     "metadata": {},
     "output_type": "execute_result"
    }
   ],
   "source": [
    "set(zip(lasso_cv.coef_, X_house))"
   ]
  },
  {
   "cell_type": "markdown",
   "id": "addb64b6",
   "metadata": {},
   "source": [
    "## RidgeCV"
   ]
  },
  {
   "cell_type": "code",
   "execution_count": 65,
   "id": "a7c600bd",
   "metadata": {},
   "outputs": [
    {
     "data": {
      "text/plain": [
       "RidgeCV(alphas=array(10))"
      ]
     },
     "execution_count": 65,
     "metadata": {},
     "output_type": "execute_result"
    }
   ],
   "source": [
    "ridge_cv = RidgeCV(alphas = 10)\n",
    "ridge_cv.fit(Z_house_train, y_train)"
   ]
  },
  {
   "cell_type": "code",
   "execution_count": 66,
   "id": "04e6572b",
   "metadata": {},
   "outputs": [
    {
     "data": {
      "text/plain": [
       "29845.056171157354"
      ]
     },
     "execution_count": 66,
     "metadata": {},
     "output_type": "execute_result"
    }
   ],
   "source": [
    "ridge_preds_train = ridge_cv.predict(Z_house_train)\n",
    "metrics.mean_squared_error(y_train, ridge_preds_train, squared = False)"
   ]
  },
  {
   "cell_type": "code",
   "execution_count": 67,
   "id": "3aa416c7",
   "metadata": {},
   "outputs": [
    {
     "data": {
      "text/plain": [
       "27021.09986132287"
      ]
     },
     "execution_count": 67,
     "metadata": {},
     "output_type": "execute_result"
    }
   ],
   "source": [
    "ridge_preds_test = ridge_cv.predict(Z_house_test)\n",
    "metrics.mean_squared_error(y_test, ridge_preds_test, squared = False)"
   ]
  },
  {
   "cell_type": "code",
   "execution_count": 68,
   "id": "06650990",
   "metadata": {},
   "outputs": [
    {
     "data": {
      "text/plain": [
       "(0.8642912388309951, 0.8644212934352347)"
      ]
     },
     "execution_count": 68,
     "metadata": {},
     "output_type": "execute_result"
    }
   ],
   "source": [
    "ridge_cv.score(Z_house_train, y_train), ridge_cv.score(Z_house_test, y_test)"
   ]
  },
  {
   "cell_type": "markdown",
   "id": "73499dc8",
   "metadata": {},
   "source": [
    "## Conclusions\n",
    "\n",
    "The linear regression model that includes features of the house outperforms the baseline model based on features of the lot alone. The RidgeCV model reduced the variance by a very small amount, but its RMSE scores are slightly higher than either the Improved OLS or the LASSO CV model. All of the models have similar RMSE and R$^2$ scores. All are improvements over the baseline model. \n",
    "\n",
    "Because some degree of transparency is required for this model, I recommend sticking with the improved OLS model. Building tradespeople need to be able to interpret the coefficients easily to understand what kind of decisions can move the needle on sale price. \n",
    "\n",
    "|Model|Metric|Dataset|Value|\n",
    "|---|---|---|---|\n",
    "|Baseline OLS|RMSE|Train|\\\\$48,276.45|\n",
    "|Baseline OLS|RMSE|Test|\\\\$43,997.25|\n",
    "|Baseline OLS|R$^2$|Train|0.645|\n",
    "|Baseline OLS|R$^2$|Test|0.641|\n",
    "|Improved OLS|RMSE|Train|\\\\$29698.51|\n",
    "|Improved OLS|RMSE|Test|\\\\$26858.26|\n",
    "|Improved OLS|R$^2$|Train|0.866|\n",
    "|Improved OLS|R$^2$|Test|0.866|\n",
    "|LASSO CV|RMSE|Train|\\\\$29698.55|\n",
    "|LASSO CV|RMSE|Test|\\\\$26858.67|\n",
    "|LASSO CV|R$^2$|Train|0.866|\n",
    "|LASSO CV|R$^2$|Test|0.866|\n",
    "|Ridge CV|RMSE|Train|\\\\$29,845.06|\n",
    "|Ridge CV|RMSE|Test|\\\\$27,021.10|\n",
    "|Ridge CV|R$^2$|Train|.864|\n",
    "|Ridge CV|R$^2$|Test|.864|\n",
    "\n",
    "### Some surprises in the model\n",
    "\n",
    "This model is not perfect. Some surprising implications are that both `has_pool` and the bedroom count decrease home value. These are non-intuitive conclusions based on how we know the housing market works. \n",
    "\n",
    "To continue to improve the accuracy of my models, those are two features I would start investigating first. \n",
    "\n",
    "### Other Further Modeling Considerations\n",
    "\n",
    "The model also has a number of inherently multicollinear variables from all the dummy features. I'm not sure how to deal with these, but it would be worth experimenting with them to see if the model could be improved (or at least be just as good) without all of them. \n",
    "\n",
    "Finally, I was very disappointed that I could not focus my dataset on new and newly remodeled homes only, because that's what's really most relevant to this problem. Having more data would make this possible, and I think it would be an improvement on the solution to the problem. \n",
    "\n",
    "## Recommendations for Builders\n",
    "\n",
    "For anyone looking to take on a spec project, here are some things to consider (holding all other factors constant):\n",
    "- **Location** <br>\n",
    "If you don't already have a plot of land, consider purchasing land in a low- or medium-density zone. High-density zoning is associated with lower prices. Some neighborhoods are also more desirable: Northridge Heights, Northridge, and Somerset tend to have higher home prices while Edwards, North Ames, and Sawyer have lower prices. \n",
    "- **Layout is less important than living area** <br>\n",
    "Large lots *are* associated with more expensive homes, but much more important is the livable area of the house (expect to increase sale price by \\\\$39.93/sf), the area of the garage (\\\\$27.59/sf), the area of the deck or porch (\\\\$22.76/sf), and the area of the basement (\\\\$21.78/sf). Lot size, by contrast, we only expect to see an increase of \\\\$.90/sf. <br>\n",
    "Also, while number of bathrooms does increase the house price by about $6373 per bathroom, the model does not predict any particular layout will be higher priced than another. Rooms above and below grade, how many stories the house has, etc are all dwarfed by the importance of square footage. \n",
    "- **Materials Matter** <br>\n",
    "In general, the overall quality of materials used is one of the very most important factors in sale price. For every unit a house moves up on the quality ranking scale, we expect to see a \\\\$14,495 increase in sale price. Roofing materials in particular can drive a home price up or down -- consider composite shingles, wood shingles, or wood shakes. Masonry instead of siding also raises home price. The type of foundation can also have an impact -- if you can do poured concrete, I would expect it to increase the sale price around \\\\$4,900. \n",
    "- **Always put in a fireplace** <br>\n",
    "A fireplace is associated with a \\\\$6363 increase in the sale price. \n",
    "\n"
   ]
  }
 ],
 "metadata": {
  "kernelspec": {
   "display_name": "Python 3",
   "language": "python",
   "name": "python3"
  },
  "language_info": {
   "codemirror_mode": {
    "name": "ipython",
    "version": 3
   },
   "file_extension": ".py",
   "mimetype": "text/x-python",
   "name": "python",
   "nbconvert_exporter": "python",
   "pygments_lexer": "ipython3",
   "version": "3.8.8"
  }
 },
 "nbformat": 4,
 "nbformat_minor": 5
}
